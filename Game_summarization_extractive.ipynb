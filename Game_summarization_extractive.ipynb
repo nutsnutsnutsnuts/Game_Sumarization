{
  "nbformat": 4,
  "nbformat_minor": 0,
  "metadata": {
    "colab": {
      "provenance": []
    },
    "kernelspec": {
      "name": "python3",
      "display_name": "Python 3"
    },
    "language_info": {
      "name": "python"
    }
  },
  "cells": [
    {
      "cell_type": "markdown",
      "source": [
        "##Read Data"
      ],
      "metadata": {
        "id": "VnHYiCThjsGK"
      }
    },
    {
      "cell_type": "code",
      "execution_count": 1,
      "metadata": {
        "id": "_tv8wkzJjTgK"
      },
      "outputs": [],
      "source": [
        "import pandas as pd\n",
        "import numpy as np"
      ]
    },
    {
      "cell_type": "code",
      "source": [
        "df = pd.read_csv('/content/drive/MyDrive/text_analytics/Text_Analytics_Project/games_review.csv')\n",
        "df.head()"
      ],
      "metadata": {
        "colab": {
          "base_uri": "https://localhost:8080/",
          "height": 306
        },
        "id": "qirHOeWWjyMN",
        "outputId": "acee3115-dd6c-43b5-cb9f-55b269930557"
      },
      "execution_count": 2,
      "outputs": [
        {
          "output_type": "execute_result",
          "data": {
            "text/plain": [
              "                                               Title  \\\n",
              "0         Batman: Arkham Shadow Review - I Am Batman   \n",
              "1                     Redacted Review - Prison Break   \n",
              "2          Call Of Duty: Black Ops 6 Campaign Review   \n",
              "3  Dragon Age: The Veilguard Review In Progress -...   \n",
              "4  A Quiet Place: The Road Ahead Review - Quite A...   \n",
              "\n",
              "                                            Abstract  \\\n",
              "0  Camouflaj is no stranger to superhero VR games...   \n",
              "1  With a colorful art style and roguelike hooks,...   \n",
              "2  Treyarch's latest entry into the Call of Duty ...   \n",
              "3  The Veilguard feels like a return to form for ...   \n",
              "4  As noiselessly as a survivor in its world, A Q...   \n",
              "\n",
              "                                         Description            Author  \\\n",
              "0  It's hard to believe it's been nearly a decade...      Mark Delaney   \n",
              "1  You wouldn't know just from looking at it--wit...  Richard Wakeling   \n",
              "2  Call of Duty: Black Ops 2remains my favorite o...     Phil Hornshaw   \n",
              "3  Each new entry in the Dragon Age series is alw...      Jordan Ramée   \n",
              "4  A Quiet Place has quickly grown into one of th...      Mark Delaney   \n",
              "\n",
              "  Publish Date                                                URL  \n",
              "0   2024-10-28  https://www.gamespot.com/reviews/batman-arkham...  \n",
              "1   2024-10-28  https://www.gamespot.com/reviews/redacted-revi...  \n",
              "2   2024-10-28  https://www.gamespot.com/reviews/call-of-duty-...  \n",
              "3   2024-10-28  https://www.gamespot.com/reviews/dragon-age-th...  \n",
              "4   2024-10-21  https://www.gamespot.com/reviews/a-quiet-place...  "
            ],
            "text/html": [
              "\n",
              "  <div id=\"df-5179e7f5-bf9d-47fc-8158-e09358dfc463\" class=\"colab-df-container\">\n",
              "    <div>\n",
              "<style scoped>\n",
              "    .dataframe tbody tr th:only-of-type {\n",
              "        vertical-align: middle;\n",
              "    }\n",
              "\n",
              "    .dataframe tbody tr th {\n",
              "        vertical-align: top;\n",
              "    }\n",
              "\n",
              "    .dataframe thead th {\n",
              "        text-align: right;\n",
              "    }\n",
              "</style>\n",
              "<table border=\"1\" class=\"dataframe\">\n",
              "  <thead>\n",
              "    <tr style=\"text-align: right;\">\n",
              "      <th></th>\n",
              "      <th>Title</th>\n",
              "      <th>Abstract</th>\n",
              "      <th>Description</th>\n",
              "      <th>Author</th>\n",
              "      <th>Publish Date</th>\n",
              "      <th>URL</th>\n",
              "    </tr>\n",
              "  </thead>\n",
              "  <tbody>\n",
              "    <tr>\n",
              "      <th>0</th>\n",
              "      <td>Batman: Arkham Shadow Review - I Am Batman</td>\n",
              "      <td>Camouflaj is no stranger to superhero VR games...</td>\n",
              "      <td>It's hard to believe it's been nearly a decade...</td>\n",
              "      <td>Mark Delaney</td>\n",
              "      <td>2024-10-28</td>\n",
              "      <td>https://www.gamespot.com/reviews/batman-arkham...</td>\n",
              "    </tr>\n",
              "    <tr>\n",
              "      <th>1</th>\n",
              "      <td>Redacted Review - Prison Break</td>\n",
              "      <td>With a colorful art style and roguelike hooks,...</td>\n",
              "      <td>You wouldn't know just from looking at it--wit...</td>\n",
              "      <td>Richard Wakeling</td>\n",
              "      <td>2024-10-28</td>\n",
              "      <td>https://www.gamespot.com/reviews/redacted-revi...</td>\n",
              "    </tr>\n",
              "    <tr>\n",
              "      <th>2</th>\n",
              "      <td>Call Of Duty: Black Ops 6 Campaign Review</td>\n",
              "      <td>Treyarch's latest entry into the Call of Duty ...</td>\n",
              "      <td>Call of Duty: Black Ops 2remains my favorite o...</td>\n",
              "      <td>Phil Hornshaw</td>\n",
              "      <td>2024-10-28</td>\n",
              "      <td>https://www.gamespot.com/reviews/call-of-duty-...</td>\n",
              "    </tr>\n",
              "    <tr>\n",
              "      <th>3</th>\n",
              "      <td>Dragon Age: The Veilguard Review In Progress -...</td>\n",
              "      <td>The Veilguard feels like a return to form for ...</td>\n",
              "      <td>Each new entry in the Dragon Age series is alw...</td>\n",
              "      <td>Jordan Ramée</td>\n",
              "      <td>2024-10-28</td>\n",
              "      <td>https://www.gamespot.com/reviews/dragon-age-th...</td>\n",
              "    </tr>\n",
              "    <tr>\n",
              "      <th>4</th>\n",
              "      <td>A Quiet Place: The Road Ahead Review - Quite A...</td>\n",
              "      <td>As noiselessly as a survivor in its world, A Q...</td>\n",
              "      <td>A Quiet Place has quickly grown into one of th...</td>\n",
              "      <td>Mark Delaney</td>\n",
              "      <td>2024-10-21</td>\n",
              "      <td>https://www.gamespot.com/reviews/a-quiet-place...</td>\n",
              "    </tr>\n",
              "  </tbody>\n",
              "</table>\n",
              "</div>\n",
              "    <div class=\"colab-df-buttons\">\n",
              "\n",
              "  <div class=\"colab-df-container\">\n",
              "    <button class=\"colab-df-convert\" onclick=\"convertToInteractive('df-5179e7f5-bf9d-47fc-8158-e09358dfc463')\"\n",
              "            title=\"Convert this dataframe to an interactive table.\"\n",
              "            style=\"display:none;\">\n",
              "\n",
              "  <svg xmlns=\"http://www.w3.org/2000/svg\" height=\"24px\" viewBox=\"0 -960 960 960\">\n",
              "    <path d=\"M120-120v-720h720v720H120Zm60-500h600v-160H180v160Zm220 220h160v-160H400v160Zm0 220h160v-160H400v160ZM180-400h160v-160H180v160Zm440 0h160v-160H620v160ZM180-180h160v-160H180v160Zm440 0h160v-160H620v160Z\"/>\n",
              "  </svg>\n",
              "    </button>\n",
              "\n",
              "  <style>\n",
              "    .colab-df-container {\n",
              "      display:flex;\n",
              "      gap: 12px;\n",
              "    }\n",
              "\n",
              "    .colab-df-convert {\n",
              "      background-color: #E8F0FE;\n",
              "      border: none;\n",
              "      border-radius: 50%;\n",
              "      cursor: pointer;\n",
              "      display: none;\n",
              "      fill: #1967D2;\n",
              "      height: 32px;\n",
              "      padding: 0 0 0 0;\n",
              "      width: 32px;\n",
              "    }\n",
              "\n",
              "    .colab-df-convert:hover {\n",
              "      background-color: #E2EBFA;\n",
              "      box-shadow: 0px 1px 2px rgba(60, 64, 67, 0.3), 0px 1px 3px 1px rgba(60, 64, 67, 0.15);\n",
              "      fill: #174EA6;\n",
              "    }\n",
              "\n",
              "    .colab-df-buttons div {\n",
              "      margin-bottom: 4px;\n",
              "    }\n",
              "\n",
              "    [theme=dark] .colab-df-convert {\n",
              "      background-color: #3B4455;\n",
              "      fill: #D2E3FC;\n",
              "    }\n",
              "\n",
              "    [theme=dark] .colab-df-convert:hover {\n",
              "      background-color: #434B5C;\n",
              "      box-shadow: 0px 1px 3px 1px rgba(0, 0, 0, 0.15);\n",
              "      filter: drop-shadow(0px 1px 2px rgba(0, 0, 0, 0.3));\n",
              "      fill: #FFFFFF;\n",
              "    }\n",
              "  </style>\n",
              "\n",
              "    <script>\n",
              "      const buttonEl =\n",
              "        document.querySelector('#df-5179e7f5-bf9d-47fc-8158-e09358dfc463 button.colab-df-convert');\n",
              "      buttonEl.style.display =\n",
              "        google.colab.kernel.accessAllowed ? 'block' : 'none';\n",
              "\n",
              "      async function convertToInteractive(key) {\n",
              "        const element = document.querySelector('#df-5179e7f5-bf9d-47fc-8158-e09358dfc463');\n",
              "        const dataTable =\n",
              "          await google.colab.kernel.invokeFunction('convertToInteractive',\n",
              "                                                    [key], {});\n",
              "        if (!dataTable) return;\n",
              "\n",
              "        const docLinkHtml = 'Like what you see? Visit the ' +\n",
              "          '<a target=\"_blank\" href=https://colab.research.google.com/notebooks/data_table.ipynb>data table notebook</a>'\n",
              "          + ' to learn more about interactive tables.';\n",
              "        element.innerHTML = '';\n",
              "        dataTable['output_type'] = 'display_data';\n",
              "        await google.colab.output.renderOutput(dataTable, element);\n",
              "        const docLink = document.createElement('div');\n",
              "        docLink.innerHTML = docLinkHtml;\n",
              "        element.appendChild(docLink);\n",
              "      }\n",
              "    </script>\n",
              "  </div>\n",
              "\n",
              "\n",
              "<div id=\"df-776ce766-1bd7-4a9e-8d5c-d830a06e8d36\">\n",
              "  <button class=\"colab-df-quickchart\" onclick=\"quickchart('df-776ce766-1bd7-4a9e-8d5c-d830a06e8d36')\"\n",
              "            title=\"Suggest charts\"\n",
              "            style=\"display:none;\">\n",
              "\n",
              "<svg xmlns=\"http://www.w3.org/2000/svg\" height=\"24px\"viewBox=\"0 0 24 24\"\n",
              "     width=\"24px\">\n",
              "    <g>\n",
              "        <path d=\"M19 3H5c-1.1 0-2 .9-2 2v14c0 1.1.9 2 2 2h14c1.1 0 2-.9 2-2V5c0-1.1-.9-2-2-2zM9 17H7v-7h2v7zm4 0h-2V7h2v10zm4 0h-2v-4h2v4z\"/>\n",
              "    </g>\n",
              "</svg>\n",
              "  </button>\n",
              "\n",
              "<style>\n",
              "  .colab-df-quickchart {\n",
              "      --bg-color: #E8F0FE;\n",
              "      --fill-color: #1967D2;\n",
              "      --hover-bg-color: #E2EBFA;\n",
              "      --hover-fill-color: #174EA6;\n",
              "      --disabled-fill-color: #AAA;\n",
              "      --disabled-bg-color: #DDD;\n",
              "  }\n",
              "\n",
              "  [theme=dark] .colab-df-quickchart {\n",
              "      --bg-color: #3B4455;\n",
              "      --fill-color: #D2E3FC;\n",
              "      --hover-bg-color: #434B5C;\n",
              "      --hover-fill-color: #FFFFFF;\n",
              "      --disabled-bg-color: #3B4455;\n",
              "      --disabled-fill-color: #666;\n",
              "  }\n",
              "\n",
              "  .colab-df-quickchart {\n",
              "    background-color: var(--bg-color);\n",
              "    border: none;\n",
              "    border-radius: 50%;\n",
              "    cursor: pointer;\n",
              "    display: none;\n",
              "    fill: var(--fill-color);\n",
              "    height: 32px;\n",
              "    padding: 0;\n",
              "    width: 32px;\n",
              "  }\n",
              "\n",
              "  .colab-df-quickchart:hover {\n",
              "    background-color: var(--hover-bg-color);\n",
              "    box-shadow: 0 1px 2px rgba(60, 64, 67, 0.3), 0 1px 3px 1px rgba(60, 64, 67, 0.15);\n",
              "    fill: var(--button-hover-fill-color);\n",
              "  }\n",
              "\n",
              "  .colab-df-quickchart-complete:disabled,\n",
              "  .colab-df-quickchart-complete:disabled:hover {\n",
              "    background-color: var(--disabled-bg-color);\n",
              "    fill: var(--disabled-fill-color);\n",
              "    box-shadow: none;\n",
              "  }\n",
              "\n",
              "  .colab-df-spinner {\n",
              "    border: 2px solid var(--fill-color);\n",
              "    border-color: transparent;\n",
              "    border-bottom-color: var(--fill-color);\n",
              "    animation:\n",
              "      spin 1s steps(1) infinite;\n",
              "  }\n",
              "\n",
              "  @keyframes spin {\n",
              "    0% {\n",
              "      border-color: transparent;\n",
              "      border-bottom-color: var(--fill-color);\n",
              "      border-left-color: var(--fill-color);\n",
              "    }\n",
              "    20% {\n",
              "      border-color: transparent;\n",
              "      border-left-color: var(--fill-color);\n",
              "      border-top-color: var(--fill-color);\n",
              "    }\n",
              "    30% {\n",
              "      border-color: transparent;\n",
              "      border-left-color: var(--fill-color);\n",
              "      border-top-color: var(--fill-color);\n",
              "      border-right-color: var(--fill-color);\n",
              "    }\n",
              "    40% {\n",
              "      border-color: transparent;\n",
              "      border-right-color: var(--fill-color);\n",
              "      border-top-color: var(--fill-color);\n",
              "    }\n",
              "    60% {\n",
              "      border-color: transparent;\n",
              "      border-right-color: var(--fill-color);\n",
              "    }\n",
              "    80% {\n",
              "      border-color: transparent;\n",
              "      border-right-color: var(--fill-color);\n",
              "      border-bottom-color: var(--fill-color);\n",
              "    }\n",
              "    90% {\n",
              "      border-color: transparent;\n",
              "      border-bottom-color: var(--fill-color);\n",
              "    }\n",
              "  }\n",
              "</style>\n",
              "\n",
              "  <script>\n",
              "    async function quickchart(key) {\n",
              "      const quickchartButtonEl =\n",
              "        document.querySelector('#' + key + ' button');\n",
              "      quickchartButtonEl.disabled = true;  // To prevent multiple clicks.\n",
              "      quickchartButtonEl.classList.add('colab-df-spinner');\n",
              "      try {\n",
              "        const charts = await google.colab.kernel.invokeFunction(\n",
              "            'suggestCharts', [key], {});\n",
              "      } catch (error) {\n",
              "        console.error('Error during call to suggestCharts:', error);\n",
              "      }\n",
              "      quickchartButtonEl.classList.remove('colab-df-spinner');\n",
              "      quickchartButtonEl.classList.add('colab-df-quickchart-complete');\n",
              "    }\n",
              "    (() => {\n",
              "      let quickchartButtonEl =\n",
              "        document.querySelector('#df-776ce766-1bd7-4a9e-8d5c-d830a06e8d36 button');\n",
              "      quickchartButtonEl.style.display =\n",
              "        google.colab.kernel.accessAllowed ? 'block' : 'none';\n",
              "    })();\n",
              "  </script>\n",
              "</div>\n",
              "\n",
              "    </div>\n",
              "  </div>\n"
            ],
            "application/vnd.google.colaboratory.intrinsic+json": {
              "type": "dataframe",
              "variable_name": "df",
              "summary": "{\n  \"name\": \"df\",\n  \"rows\": 419,\n  \"fields\": [\n    {\n      \"column\": \"Title\",\n      \"properties\": {\n        \"dtype\": \"string\",\n        \"num_unique_values\": 413,\n        \"samples\": [\n          \"Riders Republic Review - National Lark\",\n          \"Kirby And The Forgotten Land Review - The Best Kirby Yet\",\n          \"Hot Wheels Unleashed Review - Toybox Drift\"\n        ],\n        \"semantic_type\": \"\",\n        \"description\": \"\"\n      }\n    },\n    {\n      \"column\": \"Abstract\",\n      \"properties\": {\n        \"dtype\": \"string\",\n        \"num_unique_values\": 419,\n        \"samples\": [\n          \"Capcom raises the bar for what a good remake is and simultaneously preserves Resident Evil 4's legacy as a genre-defining experience and one of the greatest games of all time.\",\n          \"The latest Kirby game serves up some delicious party game fun but fails to fully satisfy cravings.\",\n          \"Rain Code is a strange and quirky mystery adventure that just can't seem to step out of the shadow of its predecessor series, Danganronpa.\"\n        ],\n        \"semantic_type\": \"\",\n        \"description\": \"\"\n      }\n    },\n    {\n      \"column\": \"Description\",\n      \"properties\": {\n        \"dtype\": \"string\",\n        \"num_unique_values\": 419,\n        \"samples\": [\n          \"How do you remake Resident Evil 4, an experience that changed the way action games are made today? It is, at best, an unfair challenge and, at worst, an impossible task. So, instead of trying to reinvent the wheel a second time, developer Capcom has doubled down on the brilliance of the original's design--elaborated on it, and finely tuned the experience. The result is a stunning remake that reminds longtime fans like me of its brilliance, while also introducing an all-new generation to a modern classic and one of the most important games of all time. If you're not familiar, the premise of Resident Evil 4 is straightforward: Leon S. Kennedy, the cool and handsome rookie-cop-turned-government-agent who you may remember from his escapades in Resident Evil 2's Raccoon City, has been sent to rural Spain to track down Ashley Graham, the US President's missing daughter. Yes, it's a \\\"save the princess\\\" trope but, even 18 years later, its juxtaposition against the survival-horror genre serves as an immaculate setup for the game's over-the-top set pieces. In this case, the princess is in another castle, but it's a castle besieged by parasitic infections and mind-controlled cultists, so you'll have to blast your way from a rundown village to a military island to get her back. While the core pillars of tense, up-close-and-personal action and careful resource management remain welcomingly unchanged, improvements to character development elevate the story as a whole. Now more than ever, Capcom is aware of the tone and humor of the game after it felt accidental in the original. This time, it feels like Capcom is leaning into it, striking a considered balance between heart-pounding horror and laugh-out-loud cheese. You need a javascript enabled browser to watch videos. Want us to remember this setting for all your devices? Sign uporSign innow! By clicking 'enter', you agree to GameSpot'sTerms of UseandPrivacy Policy enter Now Playing:Resident Evil 4 Remake Video Review This time, Leon isn'tjusta cool-looking dude with swoopy hair and a sweet jacket, who says sometimes cool, sometimes corny things, and does super-cool stuff. He's more than that: Now he's a cool dude with cool hair doing cool stuff who also acts like a human being. This is a Leon who carries the trauma of the Raccoon City incident from Resident Evil 2 remake, which gives more weight to his character and serves as compelling context for his motivation to save Ashley Graham. This time around, it's not just another assignment for Leon--it's a chance at redemption for the lives he couldn't save in Raccoon City. This narrative continuity is a strong thread that ties the remakes together with emotional heft, making this new era of the franchise feel stronger and more unified than the originals. Those concerned this added layer of humanity has changed Leon's iconic action hero cheesiness shouldn't worry, as Leon is still an absolute one-liner cornball. In fact, this aspect of his character has been turned up a notch. Through the chaos of blood-soaked battles where he faces down crowds of the parasite-infected Ganados, Leon still takes the time to toss out memorable one-liners. And it's not just for banter, as these moments are used to ease the nerve-wracking tension of fighting off villagers by cutting through it with some much-needed levity. Narrowly surviving each encounter feels like a relief, but when Leon throws in a casual \\\"bill me for the repairs later\\\" quip after shooting a lantern that erupts into flames, it almost feels defiantly triumphant. The world of Resident Evil 4 is grimy, filth-covered, and horrific, but it's also one where a government agent trying to save the President's daughter says, \\\"Not bad, right?\\\" to himself after suplexing a Ganado so hard its head pops like a water balloon. Capcom managed to take me to the edge of my seat in a desperate fight for survival, only to catch me off-guard and make me laugh with some comical quip. Its ability to repeatedly do this without disrupting the overall tone of the game is one of Resident Evil 4 Remake's crowning achievements. Facing off against the Ganado is more stress-inducing and terrifying than ever before. Their frenetic movements, unexpected lurches, and vicious attacks have all been intensified, making each encounter a panicked waltz of crowd management while fighting for breathing room and hoping you've got enough ammo and health to get you through the skirmish. You'll often be outnumbered on all sides as they juke and duck out of the way of your aim, fumble over each other to grab you, and push you toward the pitchforks, sickles, and knives wielded by other members of the horde. While the Ganados were similarly tricky in the original game, this time around their movements feel more tangible and weighted, which also makes the potential consequences of being backed into a corner or overwhelmed even more terrifying. Seeing Dr. Salvador, the chainsaw-wielding potato sack-wearing maniac, stomp through the crowd to try and tear Leon apart, resurfacing a fear that repeated playthroughs of Resident Evil 4 had long since dulled. These scenarios are absolutely heart-pounding and, despite the hair-raising tension, I couldn't get enough of it because combat just feels so damn good. From blasting a wall of enemies with a shotgun, to a quick parry of a stampeding pitchfork-wielding Ganado, to delivering a sweeping roundhouse kick that pushes back a crowd, the Resident Evil 4 remake's action has a kinetic brutality that feels like controlling chaos in the most satisfying way. Each combat encounter requires constant adaptation and tactical adjustments on the fly. Sometimes the situation calls for running bravely into a crowd of enemies to thrust a knife into a downed cultist before it stands back up as a much deadlier and more erratic creature. Others require a little creativity, like sticking a well-placed remote mine next to a crowd of enemies before switching to a shotgun to eliminate an enemy's wooden shield and then watching everyone go boom. Either way, there's a playground-like nature to combat in which you can manipulate the enemy's movements to your advantage, such as luring an enemy into their own bear trap or parrying a Molotov cocktail back at someone, engulfing a crowd in flames. It all feels punchy, visceral, and badass to pull off. This was the case with the original, but it is further amplified in the remake thanks to a greater variety of enemies--some of which are entirely new--while other returning ones have been reimagined in terrifying new ways. Without spoiling too much, some enemies now change the dynamic of how crowds act, often pulling the rug out from under my feet just as I had become comfortable in combat, forcing me to contend with a whole new level of stress. Leon has, of course, been given more versatility to take on the more capable and deadly Ganados. Fundamentally, the absence of tank controls means he's much easier to control in the heat of battle, but now he also has the ability to utilize stealth and his trusty knife-fighting skills. Knives now have durability (a carryover from Resident Evil 2 Remake), with each use slightly damaging it. Knives can now be used to parry nearly every attack by hitting a button just as an enemy strikes, and to instantly break free when being grabbed. These new additions elevate the tango of violence when dealing with a crowd of enemies by creating a sense of momentum. Each fight can quickly become a dance of maneuvering weapons, managing resources, and executing parries. And being able to cycle back and forth between these actions in quick succession makes it feel like you're fighting as hard to survive as the Ganados are to kill you. If your trusty knife breaks, you'll have to scavenge for inferior knives that are considerably less durable until you can repair yours. And even then, you'll need to have the space to store them in your attache case. Naturally, resource management is once again a major pillar of the Resident Evil 4 remake, as is the fiendishly compelling meta-game of organizing the contents of your case to fit together herbs, gunpowder, weapons, and crafting resources like tetrominoes. For those that would rather skip this, you can also hit a button to have everything automatically arrange itself. [Resident Evil 4] is a stunning remake that reminds longtime fans like me of its brilliance, while also introducing an all-new generation to a modern classic and one of the most important games of all time Resident Evil 4 Remake is full of smart quality-of-life changes that build on what the original revolutionized, with the strongest example of this being the change in combat capabilities for Ashley Graham. Thankfully, Ashley no longer has a health bar for you to manage with your own resources as you escort her. Instead, when Ashley is injured, she'll become incapacitated, forcing you to juke around enemies in order to get to her and bring her back to her feet. This is much less punishing on the player than outright failure but maintains the tension of the cooperative dynamic by forcing you to suddenly shift priorities to save her, while also ensuring enemies don't carry her away by taking them out. While the original game made it very easy (comically so, at times) to trivialize this aspect of gameplay by ordering Ashley to hide in garbage cans while you dealt with crowds of foes, this time around, hiding spots are few and far between. That's a welcome change, as it makes protecting her much more ingrained into combat, while avoiding the feeling that she's just an object you have to keep safe, which often came off as dehumanizing in the original. Like Leon, Ashley Graham is more fleshed-out and believable. She retains that 20-year-old sensibility and reacts as such, screaming in horror and shock at the sight of a parasite erupting from a cultist's head, but it's never overstated. Resident Evil 4 has struck a nice balance of allowing Leon and Ashley to communicate from time to time without overstaying its welcome and falling into the protagonist-who-talks-too-much trend that has become prevalent in games in recent years. Instead, they'll check in on one another after fights to ask if they're doing alright. Ashley will compliment Leon with a, \\\"Wow, that was a nice shot\\\" after you pop the head of a cultist with a sniper rifle. There are little extra added conversations that allow the friendship between them to develop, but it never distracts from the core of the gameplay or undermines the tension of the game. Across the board, characters are no longer the one-note plot devices they were in the original. Luis Serra, for example, is given a little extra screen time that better establishes his stakes in the overarching plot. And don't worry: Like Leon, his suave charm and \\\"hey, gotta smoke\\\" quips remain intact. He's still a leather jacket-wearing lady killer who slings one-liners and wields pistols like he's a cowboy out of a spaghetti western. Even Krauser, the '80s action movie archetypal antagonist who seemed to walk right out of movies like Commando, feels more well-rounded thanks to further context around his stakes and presence in the narrative. Some characters, however, have been given more flavor than depth--specifically the Merchant. His iconic voice has changed, but this is a new version of the Merchant who is iconic in his own right and stands as one of the most memorable characters in the franchise, despite only being a walking and talking pawn shop. He remains a mysterious figure you'll find throughout the world, but now with a few extra lines in his arsenal that you'll be saying as much as you said, \\\"What're ya buyin'?\\\"--I've been repeating, \\\"Remember, fun rhymes with gun for a reason!\\\" to myself non-stop. When you're not covering yourself \\\"with the stench of battle,\\\" as the Merchant likes to say, you'll have the opportunity to go off the beaten path to track down treasure, as well as complete requests that the Merchant has placed around the environment for you to find. Some are scavenger hunts like finding a gold chicken egg, while others entail hunting down fiercer and more unruly enemies that require a little backtracking to get to. In exchange for completing these requests, you'll receive spinel gems that you can trade for treasure maps, special item upgrades, and more resources. The requests create more incentive to explore the world but never interrupt the flow and pacing of the game, as they often lead you back down familiar paths with newly gained items like special keys to unlock cabinets and devices that hold treasure. These side missions don't feel like chores or checklists to complete, as the requests are naturally paced along with the game's narrative and given a little story flavor to ground them in the world. I welcomed them, as they only prolonged my chance to wander around in a world I love spending time in, even if that meant trudging through decrepit villages or the fog-covered floors of a gothic horror castle again. Even as Leon's mission takes him to some of the less visually interesting areas in the latter chapters of the game (a carryover from the original Resident Evil 4), the remake still manages to retain a remarkable balance of bombastic action intensity and nail-biting combat scenarios. Where the original game started to lose its steam, the remake manages to keep the experience on track by considerably changing what I had come to know so well from the original. Some sections of the original game have been honed, trimmed down, and reorganized to fit better into the flow and also within the environment. The first encounter with the blind, giant-blade-wielding Garrador, for example, has been better contextualized to fit in the torturous depths of the castle. As a result, the scene is even scarier and more stressful than before--it all feels turned up to 11. There are also returning boss fights, some of which are slightly tweaked, while others have received a welcome, more significant overhaul. For nearly all of them, I had a smile plastered across my face despite the dozens of times I've faced them in the past. I applauded when I was caught off-guard by new additions and audibly cheered when I found some of Leon's most iconic lines were still in the game alongside new ones I'll be repeating for years to come. There's a remarkably judicious approach to respecting what Resident Evil 4 was by preserving vital elements of the original, and realizing the potential of what it can be by introducing new ones. On the other hand, some sections have been cut entirely, but it is evident that this has been done with careful consideration and a deft touch. For everything taken out of the game, something new has been introduced to take its place. Capcom has clearly paid close attention to how these decisions impact Resident Evil 4's masterful pacing, and the delicate balance of combat, exploration, and some additional puzzle-solving that's light and approachable. Writing this review has involved putting the controller down and stepping away from playing the Resident Evil 4 remake, and as hyperbolic as it sounds, that is much easier said than done. At the time of writing, I have finished the campaign, started a New Game+ on Hardcore, and also begun an additional playthrough on Professional mode, and I know this is only the beginning of many more playthroughs to come. Resident Evil 4 remake is the re-envisioning I wanted, but also not the one I expected to get. As a Resident Evil 4 purist, I feared that messing with the magic of an all-time classic would spell disaster. Instead, the Resident Evil 4 remake deviates from the original in many significant ways, but never compromises anything that made it revolutionary. It preserves that, recontextualizes it, and rejuvenates it in a game that is designed to keep veteran players constantly on edge, toying with what they remember to create fear through subversion. Although I have an intimate knowledge of the original game, the slight tweaks and unexpected additions kept me from ever reaching a comfort zone--I was never fully at ease, even with my knowledge of the original game. Capcom's strategy of using my knowledge of the original against me was a huge success. I won't not go into details, and some of these moments are more subtle than others, but every one of them felt clever and considered. Capcom has masterfully created a new version of a beloved game and continues to blaze a trail with its Resident Evil remakes. Like the Resident Evil 2 remake before it, the studio has used advancements in technology and design to modernize an iconic survival-horror and action game by placing emphasis on capturing the spirit of the original, and respectfully evoking the same sense of atmosphere and tone that the original developers aspired to. At the same time, it empowers the player with thrilling new mechanics and places challenges in their way to test their mastery of them. In that respect, the remake stands as a re-envisioning of its past rather than a replication of it. In doing this, it raises the bar for what a good remake is and at the same time, preserves Resident Evil 4's legacy as a genre-defining experience and one of the greatest games of all time.\",\n          \"If there's one thing Kirby is known for--apart from being \\\"friend-shaped\\\" and adorable--it's the little guy's insatiable appetite. Kirby's Dream Buffet hones in on this aspect, creating a game all about chowing down on tasty treats as fast as you can. While the title seemingly draws inspiration from a variety of games, most notably Fall Guys, Beautiful Katamari, and Mario Party, it succeeds in differentiating itself from the rest and feeling quintessentially Kirby with its lighthearted, food-centric, and fun tone. However, for all of its charms, Kirby's Dream Buffet suffers from quite a few issues--most notably, a serious lack of content and incentives to keep playing. While rolling around as Kirby is enjoyable, the experience feels more like a light snack than a well-balanced meal. Kirby's Dream Buffet begins atop a table adorned by pastel-colored pastries and sweet treats. After rolling off your plate and onto the gingham-patterned tablecloth, you can browse through a variety of supplemental features or roll straight on into one of the game's three play modes: Battle mode, Online mode, or Local Play mode. In Battle mode, you and up to one other player can take on CPUs for the chance to take the cake--literally. Online mode, on the other hand, pits you against players all over the world through either random matches or password-protected private games. However, if you and your buds are all in the same room, you can also do Local Play, which allows up to four separate consoles to play the game together. Despite these differences, all these modes consist of the same three events: races, minigames, and battle royales. In a Gourmet Grand Prix--essentially the default way to play--two races, one minigame, and a final showdown via battle royale are combined to form a cohesive experience, after which four Mario Party-esque awards are dished out and one Kirby is crowned the heavyweight king. However, regardless of what event you select, how you go about playing is essentially the same: You roll around, collect fruit, and attempt to either out-race or outlast your opponents. While competing, there are two things that can give you an edge: collecting fruit and rolling over item boxes. While picking up fruit earns you the points you need to win the game, it also increases your Kirby's size, allowing you to cover greater ground as you move while also giving you a bit more weight to throw around when bumping into other players. Item boxes, on the other hand, will give you a consumable you can use to get ahead. These items take the shape of different foods you can use Kirby's signature power absorption ability on. These include healthier snacks, such as hot peppers, which cause you to coast through the course aflame, as well as delicious-looking donuts that allow Kirby to take the shape of a wheel. All these aspects combine to create a game that is actually quite fun, in the moment. While the controls are a bit wobbly, it feels like a deliberate choice and ultimately adds to the excitement of the matches. Dream Buffet also succeeds in taking some great ideas from a few series--such as the random, game-changing awards dished out at the end of Mario Party--and combines them into something new. That feature in particular (along with how each race concludes with some first-come-first-serve dishes of strawberries that can drastically alter the number of points you have) consistently gives players opportunities to make a huge comeback. While this could be irritating for more competitive players, I found it kept the game lighthearted and fun. Unfortunately, this is about where my excitement for Kirby Dream's Buffet's ends. While there are four difficulties you can set the CPUs to--sweet, normal, spicy, and extra spicy--none of them are particularly challenging. Even worse, the game tends to have connectivity issues during online matches, meaning not even human opponents can put up a proper fight. All this paired with how few differences there are between courses and minigames means that Kirby's Dream Buffet grows repetitiveveryquickly. For example, when I pulled the game out for a family game night, each one of us could play about two Gourmet Grand Prix' each before we were ready to move on to another, more engaging party game. It didn't help that only two at a time can play the game locally, which feels like a missed opportunity. As for what else you can do in Kirby's Dream Buffet, the list is not long. Outside of the main events, you can pop by Free Rolling mode (which acts as a sort of training ground), change your costume and color, and check any rewards you've earned. These rewards primarily consist of new costumes, which are cute enough, but don't do much to offset the repetitive gameplay and incentivize you to continue playing. And that's it. Not even an options menu is included in the game, meaning if you need any sort of accommodations, you're out of luck. While handling Kirby in ball-form is meant to be a bit tricky, the game doesn't account for anyone who might need extra assistance, button remapping, or visual aids. This is even more egregious when you see how small some of the text is in handheld mode. In short, a lot of what Kirby's Dream Buffet relies on is its adorable aesthetic, which, to be fair, is where it shines. The pastel-colored paradise is filled with food that, while not quite as tempting-looking as something from a Studio Ghibli film, is a visual treat. There is an exuberance that shines through while you play, making the experience feel distinctly \\\"Kirby.\\\" Also in typical Kirby fashion, the music is delightful, being composed of upbeat and somewhat jazzy tunes. However, for all its charms, it's a bit frustrating that every level has theexactsame aesthetic. While it's understandable that the game wants to keep its soft and sweet visuals, you can't help but grow weary of every course delivering just that, with no real color palette changes, unique songs, or any sort of gimmick that sets them apart. The result is something that feels uninspired. In a world where most Nintendo games are $60 for, well,ever, Kirby's Dream Buffet's $15 price tag indicates a different thought process on Nintendo's part. But when stacked up against free-to-play games like Fall Guys, even that lower-than-usual price feels out of line with what's offered in Dream Buffet. While any expectation of a full-size Kirby game seems unreasonable considering the main series just got a new entry earlier this year, Kirby's Dream Buffet feels incomplete and just doesn't quite hit the mark.\",\n          \"I have to hand it to the development staff of Rain Code: They are very skilled at completely upending your expectations from the get-go. I certainly expected to be shocked and surprised, given that these are the minds behind the beloved Danganronpa series--they know a thing or two about throwing players narrative curveballs out of nowhere--but even I wasn't expecting what happened after about 30 minutes of introduction. I wanted to put the Switch down and give a little \\\"Well done!\\\" clap. It's a bit of a shame, though, because afterthat, none of the other cases ever reach the same high, despite some great moments. That's Rain Code in a nutshell: It can't quite reach the greatness of what came before it. Rain Code begins with a young man waking up in some sort of storage room. All he can remember is that his name is Yuma Kokohead and he's got to catch a train that's headed to Kanai Ward--a corporate city cut off to most of the outside world, shrouded in perpetual, neon-lit darkness and rain, run by the Amaterasu megacorp, and controlled by the militarized Peacekeeper force. It's not long after he boards the train that he finds out why he's going there: He's part of the World Detective Organization, which is sending several agents in to investigate Kanai Ward's ugly secrets. He also soon discovers why he has amnesia: It turns out he made a deal with a death god for special powers and offered up his memories in exchange. You need a javascript enabled browser to watch videos. Want us to remember this setting for all your devices? Sign uporSign innow! By clicking 'enter', you agree to GameSpot'sTerms of UseandPrivacy Policy enter Now Playing:Master Detective Archives: RAIN CODE Character Trailer - World Detective Organization Pt. 2 That death god, Shinigami, mostly hangs around in the form of a tiny ghost that only Yuma can see. It reads his thoughts and makes sarcastic comments until there's a mystery to be solved, which is when Shinigami stops time and transforms into a buxom demon maiden to whisk him away to mind-palace Mystery Labyrinths where things get buck-wild. Here, he must battle logic monsters, evade dastardly false-solution traps, and unlock doors with Evidence Keys that Shinigami barfs up in a shower of rainbows. And also maybe crush thought barriers riding Shinigami as a giant kaiju. And play Pop-up Pirate with her in a barrel on the beach. Yeah, it's all just alittleweird. Much has been made of the fact that Rain Code's development team helmed the beloved Danganronpa adventure game series, which you'll see (and hear) clearly in the character designs, music, and delightfully outlandish character concepts. The similarities are more than skin-deep, however: Rain Code's gameplay structure is clearly modeled after those games. Each of the game's six lengthy chapters has a plot-heavy setup, a murder, an investigation, and then a collection of minigames to catch the culprit--only, instead of a mass trial run by a malevolent bear-thing, you're braving an extra-dimensional detective dungeon. Even the Logic Deathmatch battles you fight in the dungeons are essentially a remake of Danganronpa's contradiction-hunting Nonstop Debates, but with a sword instead of gun to cut down falsehoods. Yuma, being both a detective trainee and an amnesiac, has some big hurdles to overcome. Fortunately, the other WDO members--a motley crew of quirky weirdos with love-or-hate personality traits--all have a unique supernatural ability of their own, ranging from sensing life energy or revisiting a crime scene from when it was first witnessed in the past, to separating soul from body or phasing through solid walls. Yuma soon finds he can share these special skills with their wielder, and they become crucial during the course of investigations to gather clues and evidence. For example, Yuma can use obnoxious would-be casanova Desuhiko's disguise ability to infiltrate an elite private school where a suspicious murder has occurred in the drama club. Getting to use these abilities is a neat twist, though the times you can actually play around with them are very limited. As host to all of the dark happenings, Kanai Ward itself is a key element of the game: a moist, murky, and foreboding place lined with neon lights and winding passageways. A lot of thought has been put into the art design of the city and its assorted regions, and most chapters offer you a portion of time to explore and admire the various parts of the city freely and talk to NPCs. Unfortunately, that's about all you can do; there aren't any shops or activities to be found here. You can take on some side quests to build up your Detective Rank (and learn helpful Mystery Labyrinth skills via a skill tree), but these quests are universally bland, with bog-standard fetch-quest objectives and wholly unmemorable NPC dialogue, ultimately feeling like needless padding. In contrast, the Mystery Labyrinths that Shinigami creates to close out each chapter are very well-designed and feature plenty of intriguing twists and turns, along with charming banter (and plenty of downright bizarre physical interactions) between Yuma, Shinigami, and other characters who get sucked in for the ride. The portrayal of a logical puzzle as a physical dungeon is an enjoyable conceit that allows the artists and puzzle designers to create some really memorable traps, solutions, and liminal spaces to travel through. While the Switch sometimes struggles with muddy-looking textures and slowdown, the overall art design is a high point, as are the variety of obstacles and glammed-up enemies Yuma must overcome. The variety of obstacles and puzzles is great, too. At one moment you'll be fighting a literal battle of words against a Mystery Phantom opponent who shouts attacks at you, and the next you'll be reconstructing crime scenes or playing a QTE-type event where you need to correctly answer a question quickly in order to escape danger, only to then be faced with Shinigami in a rotating barrel you throw swords at to make a phrase, followed by a finale in which a massive Shinigami must crush all mental barriers that stand between you and the truth\\u2026 among other things. The mechanics in each of these sub-sections differ but are very easy to understand and get the hang of, making for constantly shifting gameplay that keeps you on your toes. As cool and wild as many of the character designs are in Rain Code, there's simply not enough character interaction for you to feel a strong connection or animosity towards anyone. Both friends and foes alike tend to get a designated chapter to show off their abilities and personality quirks, only to be relegated to minor supporting roles afterwards. Instead, most of the in-game interactions are solely between Yuma and Shinigami, who do have a very entertaining rapport with one another. You can see little side stories with other major characters through finding collectibles, though this requires extra legwork and still doesn't remedy the issue. This lack of character development and attachment is one of the main reasons why Rain Code doesn't hit the same sweet-spot that the Danganronpa games did. Danganronpa games were extremely character-driven, and that fed into the forever-tense, emotional atmosphere: At any moment, a character you really liked could wind up killed horribly, or--perhaps worse--turn out to be a cold-blooded murderer. That fear and inevitability of loss was pervasive and powerful, making every moment feel weighty. Rain Code doesn't have the same tension and urgency. The victims of the murders are characters you barely know, the threat of a tyrannical mega-corp's unethical experiments is mostly indirect, and some of the big story revelations just don't hit as hard as they should. I also felt like the Mystery Labyrinths, as enjoyable as they were, tended to drag out their conclusions. I'd usually figured out the who and how by around the halfway point in each, meaning I only had to puzzle out how the game wanted me to put everything together. The result is a narrative-driven game with a story that lacks impact where it needs it most and leaves you saying, \\\"Wait, that's all there is?\\\" (An ending that wraps things up just a little too nicely given the messy revelations of the final chapter doesn't help, either.) But even though it's not quite as good as Danganronpa's dizzying roller-coaster highs, Rain Code is a solid detective adventure that entertains and engages for the majority of its runtime. It's got an intriguing concept, enjoyable dialogue, an interesting and plenty of bold, outlandish strangeness to hold a player's interest. I, for one, certainly hope this isn't the last we see of Shinigami's sublime snark.\"\n        ],\n        \"semantic_type\": \"\",\n        \"description\": \"\"\n      }\n    },\n    {\n      \"column\": \"Author\",\n      \"properties\": {\n        \"dtype\": \"category\",\n        \"num_unique_values\": 44,\n        \"samples\": [\n          \"Alex Goy\",\n          \"S.E. Doster\",\n          \"George Yang\"\n        ],\n        \"semantic_type\": \"\",\n        \"description\": \"\"\n      }\n    },\n    {\n      \"column\": \"Publish Date\",\n      \"properties\": {\n        \"dtype\": \"object\",\n        \"num_unique_values\": 305,\n        \"samples\": [\n          \"2022-11-14\",\n          \"2023-02-20\",\n          \"2023-08-16\"\n        ],\n        \"semantic_type\": \"\",\n        \"description\": \"\"\n      }\n    },\n    {\n      \"column\": \"URL\",\n      \"properties\": {\n        \"dtype\": \"string\",\n        \"num_unique_values\": 419,\n        \"samples\": [\n          \"https://www.gamespot.com/reviews/resident-evil-4-remake-review-stranga-stranga-now-thats-a-remake/1900-6418047/\",\n          \"https://www.gamespot.com/reviews/kirbys-dream-buffet-review-good-food-tiny-portions/1900-6417954/\",\n          \"https://www.gamespot.com/reviews/master-detective-archives-rain-code-review-blame-it-on-the-rain/1900-6418087/\"\n        ],\n        \"semantic_type\": \"\",\n        \"description\": \"\"\n      }\n    }\n  ]\n}"
            }
          },
          "metadata": {},
          "execution_count": 2
        }
      ]
    },
    {
      "cell_type": "markdown",
      "source": [
        "##Data Infomation"
      ],
      "metadata": {
        "id": "m33iy4asj3bl"
      }
    },
    {
      "cell_type": "code",
      "source": [
        "df.info()"
      ],
      "metadata": {
        "colab": {
          "base_uri": "https://localhost:8080/"
        },
        "id": "B0C-1kbQj6lt",
        "outputId": "640a3d25-36f3-4a9c-dd35-c806b45373c2"
      },
      "execution_count": 3,
      "outputs": [
        {
          "output_type": "stream",
          "name": "stdout",
          "text": [
            "<class 'pandas.core.frame.DataFrame'>\n",
            "RangeIndex: 419 entries, 0 to 418\n",
            "Data columns (total 6 columns):\n",
            " #   Column        Non-Null Count  Dtype \n",
            "---  ------        --------------  ----- \n",
            " 0   Title         419 non-null    object\n",
            " 1   Abstract      419 non-null    object\n",
            " 2   Description   419 non-null    object\n",
            " 3   Author        419 non-null    object\n",
            " 4   Publish Date  419 non-null    object\n",
            " 5   URL           419 non-null    object\n",
            "dtypes: object(6)\n",
            "memory usage: 19.8+ KB\n"
          ]
        }
      ]
    },
    {
      "cell_type": "code",
      "source": [
        "df.shape"
      ],
      "metadata": {
        "colab": {
          "base_uri": "https://localhost:8080/"
        },
        "id": "yakGD1m7j9V3",
        "outputId": "3ad47716-d667-4bab-e94d-fe8d5b960c03"
      },
      "execution_count": 5,
      "outputs": [
        {
          "output_type": "execute_result",
          "data": {
            "text/plain": [
              "(419, 6)"
            ]
          },
          "metadata": {},
          "execution_count": 5
        }
      ]
    },
    {
      "cell_type": "code",
      "source": [
        "df.isnull().sum()"
      ],
      "metadata": {
        "colab": {
          "base_uri": "https://localhost:8080/",
          "height": 269
        },
        "id": "cX9IKqg2j_3l",
        "outputId": "d3e041a5-05a1-40b4-ac95-66f455f54e25"
      },
      "execution_count": 6,
      "outputs": [
        {
          "output_type": "execute_result",
          "data": {
            "text/plain": [
              "Title           0\n",
              "Abstract        0\n",
              "Description     0\n",
              "Author          0\n",
              "Publish Date    0\n",
              "URL             0\n",
              "dtype: int64"
            ],
            "text/html": [
              "<div>\n",
              "<style scoped>\n",
              "    .dataframe tbody tr th:only-of-type {\n",
              "        vertical-align: middle;\n",
              "    }\n",
              "\n",
              "    .dataframe tbody tr th {\n",
              "        vertical-align: top;\n",
              "    }\n",
              "\n",
              "    .dataframe thead th {\n",
              "        text-align: right;\n",
              "    }\n",
              "</style>\n",
              "<table border=\"1\" class=\"dataframe\">\n",
              "  <thead>\n",
              "    <tr style=\"text-align: right;\">\n",
              "      <th></th>\n",
              "      <th>0</th>\n",
              "    </tr>\n",
              "  </thead>\n",
              "  <tbody>\n",
              "    <tr>\n",
              "      <th>Title</th>\n",
              "      <td>0</td>\n",
              "    </tr>\n",
              "    <tr>\n",
              "      <th>Abstract</th>\n",
              "      <td>0</td>\n",
              "    </tr>\n",
              "    <tr>\n",
              "      <th>Description</th>\n",
              "      <td>0</td>\n",
              "    </tr>\n",
              "    <tr>\n",
              "      <th>Author</th>\n",
              "      <td>0</td>\n",
              "    </tr>\n",
              "    <tr>\n",
              "      <th>Publish Date</th>\n",
              "      <td>0</td>\n",
              "    </tr>\n",
              "    <tr>\n",
              "      <th>URL</th>\n",
              "      <td>0</td>\n",
              "    </tr>\n",
              "  </tbody>\n",
              "</table>\n",
              "</div><br><label><b>dtype:</b> int64</label>"
            ]
          },
          "metadata": {},
          "execution_count": 6
        }
      ]
    },
    {
      "cell_type": "code",
      "source": [
        "df.iloc[0]"
      ],
      "metadata": {
        "colab": {
          "base_uri": "https://localhost:8080/",
          "height": 269
        },
        "id": "hHkGw7wekEcH",
        "outputId": "126c008d-84c7-4e73-ecce-fcec8170239a"
      },
      "execution_count": 7,
      "outputs": [
        {
          "output_type": "execute_result",
          "data": {
            "text/plain": [
              "Title                  Batman: Arkham Shadow Review - I Am Batman\n",
              "Abstract        Camouflaj is no stranger to superhero VR games...\n",
              "Description     It's hard to believe it's been nearly a decade...\n",
              "Author                                               Mark Delaney\n",
              "Publish Date                                           2024-10-28\n",
              "URL             https://www.gamespot.com/reviews/batman-arkham...\n",
              "Name: 0, dtype: object"
            ],
            "text/html": [
              "<div>\n",
              "<style scoped>\n",
              "    .dataframe tbody tr th:only-of-type {\n",
              "        vertical-align: middle;\n",
              "    }\n",
              "\n",
              "    .dataframe tbody tr th {\n",
              "        vertical-align: top;\n",
              "    }\n",
              "\n",
              "    .dataframe thead th {\n",
              "        text-align: right;\n",
              "    }\n",
              "</style>\n",
              "<table border=\"1\" class=\"dataframe\">\n",
              "  <thead>\n",
              "    <tr style=\"text-align: right;\">\n",
              "      <th></th>\n",
              "      <th>0</th>\n",
              "    </tr>\n",
              "  </thead>\n",
              "  <tbody>\n",
              "    <tr>\n",
              "      <th>Title</th>\n",
              "      <td>Batman: Arkham Shadow Review - I Am Batman</td>\n",
              "    </tr>\n",
              "    <tr>\n",
              "      <th>Abstract</th>\n",
              "      <td>Camouflaj is no stranger to superhero VR games...</td>\n",
              "    </tr>\n",
              "    <tr>\n",
              "      <th>Description</th>\n",
              "      <td>It's hard to believe it's been nearly a decade...</td>\n",
              "    </tr>\n",
              "    <tr>\n",
              "      <th>Author</th>\n",
              "      <td>Mark Delaney</td>\n",
              "    </tr>\n",
              "    <tr>\n",
              "      <th>Publish Date</th>\n",
              "      <td>2024-10-28</td>\n",
              "    </tr>\n",
              "    <tr>\n",
              "      <th>URL</th>\n",
              "      <td>https://www.gamespot.com/reviews/batman-arkham...</td>\n",
              "    </tr>\n",
              "  </tbody>\n",
              "</table>\n",
              "</div><br><label><b>dtype:</b> object</label>"
            ]
          },
          "metadata": {},
          "execution_count": 7
        }
      ]
    },
    {
      "cell_type": "code",
      "source": [
        "df['Description'].iloc[0]"
      ],
      "metadata": {
        "colab": {
          "base_uri": "https://localhost:8080/",
          "height": 137
        },
        "id": "ugLSP8I0kIfP",
        "outputId": "53eebde0-79b8-4fa5-d0d5-16d0885f8604"
      },
      "execution_count": 8,
      "outputs": [
        {
          "output_type": "execute_result",
          "data": {
            "text/plain": [
              "'It\\'s hard to believe it\\'s been nearly a decade since the last mainline Batman Arkham game. Since then, we\\'ve seen several Arkham-adjacent projects come out, only to feel hamstrung or otherwise lacking. 2016\\'s Batman Arkham VR was a neat tech demo, but it encompassed only the series\\' investigative elements. Both traditional Arkham studios, Rocksteady and WB Montreal, launched Batman-esque co-op games in recent years, but each struggled for several, sometimes similar reasons. Batman: Arkham Shadow stops the tailspin by authentically recapturing the essence of the Arkham series in ways other recent Batmanverse games disappointingly and intentionally avoided, making this the best Batman game since Arkham Knight, even if it doesn\\'t soar to the same heights as the series\\' finest moments. Batman: Arkham Shadow is a VR-only, direct sequel to Arkham Origins, taking place roughly a year later. That means this version of Batman--once again played by Roger Craig Smith doing a solid Kevin Conroy impression--is still relatively untested and ornery. He\\'s learning how to become the unflappable Batman we typically know him to be, so his temper can still get the best of him, and his uncanny ability to stay 10 steps ahead of his enemies isn\\'t guaranteed. Played in first-person, you\\'ll explore some enclosed sections of Gotham before ultimately landing in Blackgate Prison for the bulk of the game, giving this game a structure very much like the metroidvania-style design of 2009\\'s Arkham Asylum. The Dark Knight\\'s mission is to identify and stop The Rat King--a new enemy in the Batman mythology--who\\'s thought to be hiding out in the prison just days before his catastrophic strike on Gotham unfolds. This sees Shadow\\'s story unfold over the course of an in-game week rather than the usual overnight structure of Arkham plots, and sometimes, it shows. You\\'ll spend about half of the game out of costume and disguised as an inmate, Irving \"Matches\" Malone, allowing you entry into the high-security prison. Some of the game\\'s pacing in these sections doesn\\'t match what the Arkham games would normally offer--a throwaway detail involves spending money at the commissary to buy cosmetics with which you decorate your prison cell, but the options are both too few in number and unappealing. But even cool options here would\\'ve felt like the wrong layer to add to the Arkhamverse. Batman doesn\\'t hang out, regardless of whether he\\'s dressed like an inmate or a superhero, so you\\'ll only really see his cell when it\\'s time to end the day. It\\'s not merely dialogue when you\\'re out of the cowl, though. There are still some enjoyable moments when playing as Matches, like some missions that ask you to sneak around the complex or fight other inmates without Batman\\'s usual repertoire, but they pale in comparison to the standout time spent in Kevlar. One issue I kept returning to, regardless of Bruce Wayne\\'s get-up, is a lack of notable villains. There are only a few boss battles in the game, and most don\\'t involve Batman\\'s major rogues. When I played Arkham Origins, it was hard to shake the sense that I was squaring off with Batman\\'s B- and C-tier villains, for the most part. Firefly doesn\\'t hold a candle (no pun intended) to Poison Ivy, Two-Face, or Joker. Arkham Shadow dials down the theatrics to an even lower level, swapping out someone like Origins\\' Deathstroke for Lock-Up, a hulking Tyger guard who struggles to feel like anything more than a souped-up common enemy. To its credit, Shadow also takes advantage of its story being early in Batman\\'s career, letting you spend a lot of time around characters whose arcs fans know all too well, but you\\'ll see them before they\\'ve fallen down their respective pits of darkness. That\\'s standard prequel fare, but I enjoy it when it\\'s done well in the Batman world, as it is here--in several cases, but one especially. On its story merits, Arkham Shadow can\\'t match Rocksteady\\'s best work. I\\'ve long believed Arkham City to be one of the greatest Batman stories regardless of medium, so the bar is extremely high, and though Arkham Shadow falls short of it, that\\'s not to say it\\'s a bad story. It gets better in the final act and has some great character moments. It authentically captures the mood of the other games, owed to its way of adopting both identical art direction and a similar-sounding original score. Arkham Shadow wants you to recall fondly your time with the earlier games in the series, and it wants you to believe it deserves to exist in that same place in your mind. And, despite a story that doesn\\'t get there, most everything else does. Arkham Shadow is exclusive not just to virtual reality as a platform, but to the Meta Quest 3 (and its cheaper, slightly less-powerful sibling, the Meta Quest 3S). But in all the ways fans of the series would find important, it plays like a core addition to the lauded series. Unlike Arkham VR, Arkham Shadow ports over all three phases of the series\\' gameplay loop: combat, stealth, and detective elements. The combat is the surest sign that Shadow really works as a proper Batman game. For a Batman fan skeptical of VR or even someone who has simply never tried it, it would make for a jaw-dropping demonstration. It offers the same blend of fluidity and complexity of past games, highlighted by its signature counter mechanics being seamlessly transposed into VR, giving you the tools to take out a dozen baddies without so much as a scratch on your exposed chin. Rather than press a face button to activate the counter when the on-screen prompt appears, Shadow shows the same lightning bolt-like symbol on the left or right side of your interface, and to perform the move, you simply throw your arm out to the same side. Just like in other Arkham games, this allows you to pummel one guy, but then easily interrupt your own offense in favor of a counter that continues your combo meter, unlocking things like finishing moves and activating Batman\\'s shock gloves. Importantly, the camera automatically shifts to have you face countered foes, though you can always turn on your own accord, too. It all feels just as fluid as the existing games in the series and earns the \"freeflow\" moniker in its own right. The same enemies you may know from the series return here, and each one adds a layer of combat complexity. A bigger, more brutish Tyger guard must be stunned with your cape--done in VR by making a hook motion with your arm without holding the triggers, which would instead translate to a fist/punch. Enemies with stun batons are scaled up and over using the right stick, then kicked in the back by raising and throwing down both of your arms. Those with knives need to be dodged by ducking before you can counter their attacks with your own, and riot-shielders demand a combination of cape-stunning and climbing before an overhead forearm smash. To Arkham veterans, these will sound familiar, as they\\'re exactly what you\\'d do in the other games, and in a way I can\\'t technically explain, the physics of it all feel exactly as I remember it to feel. Every combat encounter is exciting and approachable enough to allow for mastery of its systems, which naturally sends a tidal wave of dopamine coursing through you. In a manner I\\'ve never experienced before,I am Batman. This is just as uncannily true when moving through the world in all the ways you can as the hero. When gliding down from gargoyles, or bat-clawing over a ledge, you move at the same speed, and with seemingly the same animations, you\\'d be used to from other Arkham games. Here, you\\'ll physically hold out both arms to your sides to perform a glide, rather than hold down a single button, but how it looks and feels is otherwise identical to before. A glide kick from 40 feet away includes the same look and feel that series experts will be used to. Even looking down at my legs when I was simply walking, Batman seems to have the same gait he always had in the series. I didn\\'t expect this degree of duplication and probably would\\'ve settled for something quite like what I knew before. But this isn\\'t just quite like it. Itisit. Having played each of the Arkham games several times over, Arkham Shadow feels like coming home after some time spent away. It\\'s familiar and faithful in all the right ways. While combat in VR includes about as many button presses as it does on a controller, performing stealth functions is a more physical, multi-step process. From atop a perch in an older Arkham game, you\\'d press one button to pounce on an enemy below and string them up like a warning sign to others during \"predator\" sections of the game. In VR, that one ability is performed in several smaller motions: First, you hold down the right stick to hang from the gargoyle, then you lunge at a nearby enemy with both arms, at which point you\\'ll lift him up. You tie them automatically, but to complete the move, you then toss them away, like The Undertaker throwing Mankind off the cell in 1998. If it sounds complicated, it\\'s really not. The on-screen prompts help it become second nature before long, and no move demands unforgiving precision. Like most VR games, it accepts something close enough to what it\\'s asking for. Crouching behind enemies or popping out of grates beneath them to silently choke them out is similarly tactile, demanding you lunge at them by thrusting your arms forward, then throwing your arms side to side a few times to simulate a chokehold until they pass out. Batman\\'s tool belt has been cleverly rebuilt for VR, too. The decoder that would unlock doors in past games is now a motion-based puzzle where you unholster the device, scan the lock, then search a small radar-like map in your hand to pinpoint the sweet spot that grants the unlock password. Other classic tools return, too, like the bat-claw that can rip grates off of hard-to-reach air ducts, or the explosive launcher that can be used to break down walls or even stun enemies mid-fistfight. Naturally, Shadow also includes detective vision, which you activate by moving either controller to the side of your head and clicking a trigger. It\\'s a simple on/off switch that immediately recolors the world around you in the same light blue filter, in which notable objects such as quest items and tons of optional puzzles stick out in orange. The detective gameplay in this series has never been very complex--it\\'s not Obra Dinn; you mostly just walk around interacting with the highlighted items so Batman can make his deductions automatically. That\\'s true here too, but like before, I find even this simplistic take on detective work functions well as a reminder that Batman isn\\'t just one part MMA fighter and one part ninja; he\\'s also a gumshoe. Whereas the previous attempt to bring Batman Arkham to VR captured only this basic gameplay loop that usually doesn\\'t survive such a spotlight, in Shadow, it\\'s one relatively minor but still important piece to delivering a well-rounded, authentic Arkham experience. Given the game\\'s metroidvanian world design, you can spend a lot of time off the main path to instead smash rat statues, destroy propaganda radios, and collect audio logs, among other puzzle types. Like Riddler Challenges before them, these puzzles are usually just tricky enough to reel you away from the objective for a minute or two, though plenty can\\'t be completed until you unlock the right tools later in the story. Even if this is your first Arkham game, that aspect is well-telegraphed when it needs to be, like when you clearly have no way of reaching a vent far above you until you get the bat-clow. I always enjoyed these optional puzzles, evidenced by the fact that I could hardly ignore any one of them when I\\'d encountered it unless I wasn\\'t equipped to beat it yet. To reach 100% game completion, you\\'ll need to wipe the prison of these puzzles, as well as complete the game\\'s enjoyable combat and stealth challenges, which unfold in arenas outside of the campaign--again representing another staple of the series. With all of these tools at your disposal and all of the gameplay tentpoles intact, Shadow also thankfully offers a lengthy list of movement and accessibility options so players can find their best play style. Three core movement styles make up the base options, but you can customize each of them further so that if you might like an immersive turning method, you can have it, even if you also prefer that with a heavily vignetted point-of-view, which is used in some VR games to reduce nausea. A few recent VR games left me nauseated, which confused me since I haven\\'t historically had to deal with that. Thankfully, Arkham Shadow never did. I played the game in full on the middle-ground option between something for beginners (or those most nausea-prone) and those who want the most immersive VR experience. The game does seem to eat into my battery a lot, as I beat it in five roughly two-hour sessions, stopping not due to nausea, but because my 5% battery warning would appear. My foremost problem with Arkham Shadow is a lack of polish, which I consider different from the ubiquitous VR jank that pops up in Blackgate occasionally, like mangled forearms seen when opening some doors, or fingers that clip through held objects. The bugs I experienced were diverse in their nature, though thankfully not too numerous in their total instances. To name a few: Sometimes I\\'d get stuck behind an invisible wall, like when I\\'d deactivated an electrified barrier, but the game treated it like it still stood there. Other times, I\\'d load into an area and briefly witness a strange out-of-body experience where I watched from a great distance the entire game world laid into place before being teleported into the right spot. I\\'m not sure if it was a bug or just a lack of enemy barks and taunts, but in some fights, the bad guys I was scrapping with would too often repeat each other, too. Individually, none of these are game-breaking, but collectively, the broad swath of smallish but nagging issues stood out. A VR game usually takes a hit to its visuals as a starting point when compared to what a PC or console game could offer, so when I\\'d experience bugs like these on top of a lower-definition take on the Arkhamverse, it became a reminder that, however authentic this new style of Arkham game is to the classics, it still felt off at times. Admitting all that, I also know myself well enough as a critic by now to know that I don\\'t tend to care about bugs as much as many others. If the core experience is strong--if the highs are high enough--I tend to forgive some missing polish. That\\'s ultimately where I land with Batman: Arkham Shadow. The highsarehigh enough. Its story is a fun Batman romp that would work as a solid comic book arc, even if it can\\'t touch Rocksteady\\'s mainline saga. Moreover, it\\'s by capturing the full spectrum of Arkham\\'s still-exciting gameplay mechanics so effectively that Shadow becomes a must-play game for Batman fans, and a revealing measuring stick of how much virtual reality has advanced in just a few years. This isn\\'t the first Batman Arkham game made for VR, but it\\'s undoubtedly the first to feel like it belongs with the rest of the series. '"
            ],
            "application/vnd.google.colaboratory.intrinsic+json": {
              "type": "string"
            }
          },
          "metadata": {},
          "execution_count": 8
        }
      ]
    },
    {
      "cell_type": "markdown",
      "source": [
        "##Text Preprocessing"
      ],
      "metadata": {
        "id": "VxAvUCb6kQO0"
      }
    },
    {
      "cell_type": "code",
      "source": [
        "import nltk\n",
        "nltk.download('punkt')"
      ],
      "metadata": {
        "colab": {
          "base_uri": "https://localhost:8080/"
        },
        "id": "-ZOa9a56knlD",
        "outputId": "b6188b2e-0757-4e78-acb7-2fd7acf6063e"
      },
      "execution_count": 10,
      "outputs": [
        {
          "output_type": "stream",
          "name": "stderr",
          "text": [
            "[nltk_data] Downloading package punkt to /root/nltk_data...\n",
            "[nltk_data]   Unzipping tokenizers/punkt.zip.\n"
          ]
        },
        {
          "output_type": "execute_result",
          "data": {
            "text/plain": [
              "True"
            ]
          },
          "metadata": {},
          "execution_count": 10
        }
      ]
    },
    {
      "cell_type": "code",
      "source": [
        "from nltk.corpus import stopwords\n",
        "from nltk.tokenize import word_tokenize\n",
        "\n",
        "# Step 1: Extract the Title and Description columns\n",
        "titles = df['Title'].tolist()\n",
        "descriptions = df['Description'].tolist()\n",
        "\n",
        "# Step 2: Create documents with titles and descriptions\n",
        "documents = [f\"Game Title: {title}\\nDescription: {desc.lower()}\" for title, desc in zip(titles, descriptions)]\n",
        "\n",
        "tokenized_documents = [word_tokenize(doc.lower()) for doc in documents]\n",
        "\n",
        "\n",
        "print(f\"Number of documents: {len(documents)}\")"
      ],
      "metadata": {
        "colab": {
          "base_uri": "https://localhost:8080/"
        },
        "id": "ITh-AwgFkLdV",
        "outputId": "d3540f55-778a-4dd3-f8fb-cf0b0d602075"
      },
      "execution_count": 11,
      "outputs": [
        {
          "output_type": "stream",
          "name": "stdout",
          "text": [
            "Number of documents: 419\n"
          ]
        }
      ]
    },
    {
      "cell_type": "code",
      "source": [
        "from pprint import pprint\n",
        "pprint(documents[0])"
      ],
      "metadata": {
        "colab": {
          "base_uri": "https://localhost:8080/"
        },
        "id": "Z0vfsGrfksh-",
        "outputId": "e855e801-f84c-45ff-a80c-9eeda4697f3a"
      },
      "execution_count": 12,
      "outputs": [
        {
          "output_type": "stream",
          "name": "stdout",
          "text": [
            "('Game Title: Batman: Arkham Shadow Review - I Am Batman\\n'\n",
            " \"Description: it's hard to believe it's been nearly a decade since the last \"\n",
            " \"mainline batman arkham game. since then, we've seen several arkham-adjacent \"\n",
            " \"projects come out, only to feel hamstrung or otherwise lacking. 2016's \"\n",
            " \"batman arkham vr was a neat tech demo, but it encompassed only the series' \"\n",
            " 'investigative elements. both traditional arkham studios, rocksteady and wb '\n",
            " 'montreal, launched batman-esque co-op games in recent years, but each '\n",
            " 'struggled for several, sometimes similar reasons. batman: arkham shadow '\n",
            " 'stops the tailspin by authentically recapturing the essence of the arkham '\n",
            " 'series in ways other recent batmanverse games disappointingly and '\n",
            " 'intentionally avoided, making this the best batman game since arkham knight, '\n",
            " \"even if it doesn't soar to the same heights as the series' finest moments. \"\n",
            " 'batman: arkham shadow is a vr-only, direct sequel to arkham origins, taking '\n",
            " 'place roughly a year later. that means this version of batman--once again '\n",
            " 'played by roger craig smith doing a solid kevin conroy impression--is still '\n",
            " \"relatively untested and ornery. he's learning how to become the unflappable \"\n",
            " 'batman we typically know him to be, so his temper can still get the best of '\n",
            " \"him, and his uncanny ability to stay 10 steps ahead of his enemies isn't \"\n",
            " \"guaranteed. played in first-person, you'll explore some enclosed sections of \"\n",
            " 'gotham before ultimately landing in blackgate prison for the bulk of the '\n",
            " 'game, giving this game a structure very much like the metroidvania-style '\n",
            " \"design of 2009's arkham asylum. the dark knight's mission is to identify and \"\n",
            " \"stop the rat king--a new enemy in the batman mythology--who's thought to be \"\n",
            " 'hiding out in the prison just days before his catastrophic strike on gotham '\n",
            " \"unfolds. this sees shadow's story unfold over the course of an in-game week \"\n",
            " 'rather than the usual overnight structure of arkham plots, and sometimes, it '\n",
            " \"shows. you'll spend about half of the game out of costume and disguised as \"\n",
            " 'an inmate, irving \"matches\" malone, allowing you entry into the '\n",
            " \"high-security prison. some of the game's pacing in these sections doesn't \"\n",
            " 'match what the arkham games would normally offer--a throwaway detail '\n",
            " 'involves spending money at the commissary to buy cosmetics with which you '\n",
            " 'decorate your prison cell, but the options are both too few in number and '\n",
            " \"unappealing. but even cool options here would've felt like the wrong layer \"\n",
            " \"to add to the arkhamverse. batman doesn't hang out, regardless of whether \"\n",
            " \"he's dressed like an inmate or a superhero, so you'll only really see his \"\n",
            " \"cell when it's time to end the day. it's not merely dialogue when you're out \"\n",
            " 'of the cowl, though. there are still some enjoyable moments when playing as '\n",
            " 'matches, like some missions that ask you to sneak around the complex or '\n",
            " \"fight other inmates without batman's usual repertoire, but they pale in \"\n",
            " 'comparison to the standout time spent in kevlar. one issue i kept returning '\n",
            " \"to, regardless of bruce wayne's get-up, is a lack of notable villains. there \"\n",
            " \"are only a few boss battles in the game, and most don't involve batman's \"\n",
            " 'major rogues. when i played arkham origins, it was hard to shake the sense '\n",
            " \"that i was squaring off with batman's b- and c-tier villains, for the most \"\n",
            " \"part. firefly doesn't hold a candle (no pun intended) to poison ivy, \"\n",
            " 'two-face, or joker. arkham shadow dials down the theatrics to an even lower '\n",
            " \"level, swapping out someone like origins' deathstroke for lock-up, a hulking \"\n",
            " 'tyger guard who struggles to feel like anything more than a souped-up common '\n",
            " 'enemy. to its credit, shadow also takes advantage of its story being early '\n",
            " \"in batman's career, letting you spend a lot of time around characters whose \"\n",
            " \"arcs fans know all too well, but you'll see them before they've fallen down \"\n",
            " \"their respective pits of darkness. that's standard prequel fare, but i enjoy \"\n",
            " \"it when it's done well in the batman world, as it is here--in several cases, \"\n",
            " \"but one especially. on its story merits, arkham shadow can't match \"\n",
            " \"rocksteady's best work. i've long believed arkham city to be one of the \"\n",
            " 'greatest batman stories regardless of medium, so the bar is extremely high, '\n",
            " \"and though arkham shadow falls short of it, that's not to say it's a bad \"\n",
            " 'story. it gets better in the final act and has some great character moments. '\n",
            " 'it authentically captures the mood of the other games, owed to its way of '\n",
            " 'adopting both identical art direction and a similar-sounding original score. '\n",
            " 'arkham shadow wants you to recall fondly your time with the earlier games in '\n",
            " 'the series, and it wants you to believe it deserves to exist in that same '\n",
            " \"place in your mind. and, despite a story that doesn't get there, most \"\n",
            " 'everything else does. arkham shadow is exclusive not just to virtual reality '\n",
            " 'as a platform, but to the meta quest 3 (and its cheaper, slightly '\n",
            " 'less-powerful sibling, the meta quest 3s). but in all the ways fans of the '\n",
            " 'series would find important, it plays like a core addition to the lauded '\n",
            " 'series. unlike arkham vr, arkham shadow ports over all three phases of the '\n",
            " \"series' gameplay loop: combat, stealth, and detective elements. the combat \"\n",
            " 'is the surest sign that shadow really works as a proper batman game. for a '\n",
            " 'batman fan skeptical of vr or even someone who has simply never tried it, it '\n",
            " 'would make for a jaw-dropping demonstration. it offers the same blend of '\n",
            " 'fluidity and complexity of past games, highlighted by its signature counter '\n",
            " 'mechanics being seamlessly transposed into vr, giving you the tools to take '\n",
            " 'out a dozen baddies without so much as a scratch on your exposed chin. '\n",
            " 'rather than press a face button to activate the counter when the on-screen '\n",
            " 'prompt appears, shadow shows the same lightning bolt-like symbol on the left '\n",
            " 'or right side of your interface, and to perform the move, you simply throw '\n",
            " 'your arm out to the same side. just like in other arkham games, this allows '\n",
            " 'you to pummel one guy, but then easily interrupt your own offense in favor '\n",
            " 'of a counter that continues your combo meter, unlocking things like '\n",
            " \"finishing moves and activating batman's shock gloves. importantly, the \"\n",
            " 'camera automatically shifts to have you face countered foes, though you can '\n",
            " 'always turn on your own accord, too. it all feels just as fluid as the '\n",
            " 'existing games in the series and earns the \"freeflow\" moniker in its own '\n",
            " 'right. the same enemies you may know from the series return here, and each '\n",
            " 'one adds a layer of combat complexity. a bigger, more brutish tyger guard '\n",
            " 'must be stunned with your cape--done in vr by making a hook motion with your '\n",
            " 'arm without holding the triggers, which would instead translate to a '\n",
            " 'fist/punch. enemies with stun batons are scaled up and over using the right '\n",
            " 'stick, then kicked in the back by raising and throwing down both of your '\n",
            " 'arms. those with knives need to be dodged by ducking before you can counter '\n",
            " 'their attacks with your own, and riot-shielders demand a combination of '\n",
            " 'cape-stunning and climbing before an overhead forearm smash. to arkham '\n",
            " \"veterans, these will sound familiar, as they're exactly what you'd do in the \"\n",
            " \"other games, and in a way i can't technically explain, the physics of it all \"\n",
            " 'feel exactly as i remember it to feel. every combat encounter is exciting '\n",
            " 'and approachable enough to allow for mastery of its systems, which naturally '\n",
            " \"sends a tidal wave of dopamine coursing through you. in a manner i've never \"\n",
            " 'experienced before,i am batman. this is just as uncannily true when moving '\n",
            " 'through the world in all the ways you can as the hero. when gliding down '\n",
            " 'from gargoyles, or bat-clawing over a ledge, you move at the same speed, and '\n",
            " \"with seemingly the same animations, you'd be used to from other arkham \"\n",
            " \"games. here, you'll physically hold out both arms to your sides to perform a \"\n",
            " 'glide, rather than hold down a single button, but how it looks and feels is '\n",
            " 'otherwise identical to before. a glide kick from 40 feet away includes the '\n",
            " 'same look and feel that series experts will be used to. even looking down at '\n",
            " 'my legs when i was simply walking, batman seems to have the same gait he '\n",
            " \"always had in the series. i didn't expect this degree of duplication and \"\n",
            " \"probably would've settled for something quite like what i knew before. but \"\n",
            " \"this isn't just quite like it. itisit. having played each of the arkham \"\n",
            " 'games several times over, arkham shadow feels like coming home after some '\n",
            " \"time spent away. it's familiar and faithful in all the right ways. while \"\n",
            " 'combat in vr includes about as many button presses as it does on a '\n",
            " 'controller, performing stealth functions is a more physical, multi-step '\n",
            " \"process. from atop a perch in an older arkham game, you'd press one button \"\n",
            " 'to pounce on an enemy below and string them up like a warning sign to others '\n",
            " 'during \"predator\" sections of the game. in vr, that one ability is performed '\n",
            " 'in several smaller motions: first, you hold down the right stick to hang '\n",
            " 'from the gargoyle, then you lunge at a nearby enemy with both arms, at which '\n",
            " \"point you'll lift him up. you tie them automatically, but to complete the \"\n",
            " 'move, you then toss them away, like the undertaker throwing mankind off the '\n",
            " \"cell in 1998. if it sounds complicated, it's really not. the on-screen \"\n",
            " 'prompts help it become second nature before long, and no move demands '\n",
            " 'unforgiving precision. like most vr games, it accepts something close enough '\n",
            " \"to what it's asking for. crouching behind enemies or popping out of grates \"\n",
            " 'beneath them to silently choke them out is similarly tactile, demanding you '\n",
            " 'lunge at them by thrusting your arms forward, then throwing your arms side '\n",
            " \"to side a few times to simulate a chokehold until they pass out. batman's \"\n",
            " 'tool belt has been cleverly rebuilt for vr, too. the decoder that would '\n",
            " 'unlock doors in past games is now a motion-based puzzle where you unholster '\n",
            " 'the device, scan the lock, then search a small radar-like map in your hand '\n",
            " 'to pinpoint the sweet spot that grants the unlock password. other classic '\n",
            " 'tools return, too, like the bat-claw that can rip grates off of '\n",
            " 'hard-to-reach air ducts, or the explosive launcher that can be used to break '\n",
            " 'down walls or even stun enemies mid-fistfight. naturally, shadow also '\n",
            " 'includes detective vision, which you activate by moving either controller to '\n",
            " \"the side of your head and clicking a trigger. it's a simple on/off switch \"\n",
            " 'that immediately recolors the world around you in the same light blue '\n",
            " 'filter, in which notable objects such as quest items and tons of optional '\n",
            " 'puzzles stick out in orange. the detective gameplay in this series has never '\n",
            " \"been very complex--it's not obra dinn; you mostly just walk around \"\n",
            " 'interacting with the highlighted items so batman can make his deductions '\n",
            " \"automatically. that's true here too, but like before, i find even this \"\n",
            " 'simplistic take on detective work functions well as a reminder that batman '\n",
            " \"isn't just one part mma fighter and one part ninja; he's also a gumshoe. \"\n",
            " 'whereas the previous attempt to bring batman arkham to vr captured only this '\n",
            " \"basic gameplay loop that usually doesn't survive such a spotlight, in \"\n",
            " \"shadow, it's one relatively minor but still important piece to delivering a \"\n",
            " \"well-rounded, authentic arkham experience. given the game's metroidvanian \"\n",
            " 'world design, you can spend a lot of time off the main path to instead smash '\n",
            " 'rat statues, destroy propaganda radios, and collect audio logs, among other '\n",
            " 'puzzle types. like riddler challenges before them, these puzzles are usually '\n",
            " 'just tricky enough to reel you away from the objective for a minute or two, '\n",
            " \"though plenty can't be completed until you unlock the right tools later in \"\n",
            " 'the story. even if this is your first arkham game, that aspect is '\n",
            " 'well-telegraphed when it needs to be, like when you clearly have no way of '\n",
            " 'reaching a vent far above you until you get the bat-clow. i always enjoyed '\n",
            " 'these optional puzzles, evidenced by the fact that i could hardly ignore any '\n",
            " \"one of them when i'd encountered it unless i wasn't equipped to beat it yet. \"\n",
            " \"to reach 100% game completion, you'll need to wipe the prison of these \"\n",
            " \"puzzles, as well as complete the game's enjoyable combat and stealth \"\n",
            " 'challenges, which unfold in arenas outside of the campaign--again '\n",
            " 'representing another staple of the series. with all of these tools at your '\n",
            " 'disposal and all of the gameplay tentpoles intact, shadow also thankfully '\n",
            " 'offers a lengthy list of movement and accessibility options so players can '\n",
            " 'find their best play style. three core movement styles make up the base '\n",
            " 'options, but you can customize each of them further so that if you might '\n",
            " 'like an immersive turning method, you can have it, even if you also prefer '\n",
            " 'that with a heavily vignetted point-of-view, which is used in some vr games '\n",
            " 'to reduce nausea. a few recent vr games left me nauseated, which confused me '\n",
            " \"since i haven't historically had to deal with that. thankfully, arkham \"\n",
            " 'shadow never did. i played the game in full on the middle-ground option '\n",
            " 'between something for beginners (or those most nausea-prone) and those who '\n",
            " 'want the most immersive vr experience. the game does seem to eat into my '\n",
            " 'battery a lot, as i beat it in five roughly two-hour sessions, stopping not '\n",
            " 'due to nausea, but because my 5% battery warning would appear. my foremost '\n",
            " 'problem with arkham shadow is a lack of polish, which i consider different '\n",
            " 'from the ubiquitous vr jank that pops up in blackgate occasionally, like '\n",
            " 'mangled forearms seen when opening some doors, or fingers that clip through '\n",
            " 'held objects. the bugs i experienced were diverse in their nature, though '\n",
            " 'thankfully not too numerous in their total instances. to name a few: '\n",
            " \"sometimes i'd get stuck behind an invisible wall, like when i'd deactivated \"\n",
            " 'an electrified barrier, but the game treated it like it still stood there. '\n",
            " \"other times, i'd load into an area and briefly witness a strange out-of-body \"\n",
            " 'experience where i watched from a great distance the entire game world laid '\n",
            " \"into place before being teleported into the right spot. i'm not sure if it \"\n",
            " 'was a bug or just a lack of enemy barks and taunts, but in some fights, the '\n",
            " 'bad guys i was scrapping with would too often repeat each other, too. '\n",
            " 'individually, none of these are game-breaking, but collectively, the broad '\n",
            " 'swath of smallish but nagging issues stood out. a vr game usually takes a '\n",
            " 'hit to its visuals as a starting point when compared to what a pc or console '\n",
            " \"game could offer, so when i'd experience bugs like these on top of a \"\n",
            " 'lower-definition take on the arkhamverse, it became a reminder that, however '\n",
            " 'authentic this new style of arkham game is to the classics, it still felt '\n",
            " 'off at times. admitting all that, i also know myself well enough as a critic '\n",
            " \"by now to know that i don't tend to care about bugs as much as many others. \"\n",
            " 'if the core experience is strong--if the highs are high enough--i tend to '\n",
            " \"forgive some missing polish. that's ultimately where i land with batman: \"\n",
            " 'arkham shadow. the highsarehigh enough. its story is a fun batman romp that '\n",
            " \"would work as a solid comic book arc, even if it can't touch rocksteady's \"\n",
            " \"mainline saga. moreover, it's by capturing the full spectrum of arkham's \"\n",
            " 'still-exciting gameplay mechanics so effectively that shadow becomes a '\n",
            " 'must-play game for batman fans, and a revealing measuring stick of how much '\n",
            " \"virtual reality has advanced in just a few years. this isn't the first \"\n",
            " \"batman arkham game made for vr, but it's undoubtedly the first to feel like \"\n",
            " 'it belongs with the rest of the series. ')\n"
          ]
        }
      ]
    },
    {
      "cell_type": "markdown",
      "source": [
        "##Extractive Summarization"
      ],
      "metadata": {
        "id": "oeMnWtedk1xp"
      }
    },
    {
      "cell_type": "markdown",
      "source": [
        "# LexRank"
      ],
      "metadata": {
        "id": "UiEMAZnlk44G"
      }
    },
    {
      "cell_type": "code",
      "source": [
        "!pip install lexrank"
      ],
      "metadata": {
        "colab": {
          "base_uri": "https://localhost:8080/"
        },
        "id": "uJB6eJdHkw8y",
        "outputId": "b0f016e9-b240-4030-919d-845b2398d5e6"
      },
      "execution_count": 13,
      "outputs": [
        {
          "output_type": "stream",
          "name": "stdout",
          "text": [
            "Collecting lexrank\n",
            "  Downloading lexrank-0.1.0-py3-none-any.whl.metadata (5.8 kB)\n",
            "Requirement already satisfied: numpy>=1.13.3 in /usr/local/lib/python3.10/dist-packages (from lexrank) (1.26.4)\n",
            "Collecting path.py>=10.5 (from lexrank)\n",
            "  Downloading path.py-12.5.0-py3-none-any.whl.metadata (1.3 kB)\n",
            "Collecting pyrsistent>=0.14.0 (from lexrank)\n",
            "  Downloading pyrsistent-0.20.0-cp310-cp310-manylinux_2_17_x86_64.manylinux2014_x86_64.whl.metadata (27 kB)\n",
            "Requirement already satisfied: regex>=2017.11.9 in /usr/local/lib/python3.10/dist-packages (from lexrank) (2024.9.11)\n",
            "Requirement already satisfied: scipy>=0.19.0 in /usr/local/lib/python3.10/dist-packages (from lexrank) (1.13.1)\n",
            "Collecting urlextract>=0.7 (from lexrank)\n",
            "  Downloading urlextract-1.9.0-py3-none-any.whl.metadata (5.8 kB)\n",
            "Collecting path (from path.py>=10.5->lexrank)\n",
            "  Downloading path-17.0.0-py3-none-any.whl.metadata (6.4 kB)\n",
            "Requirement already satisfied: idna in /usr/local/lib/python3.10/dist-packages (from urlextract>=0.7->lexrank) (3.10)\n",
            "Collecting uritools (from urlextract>=0.7->lexrank)\n",
            "  Downloading uritools-4.0.3-py3-none-any.whl.metadata (4.7 kB)\n",
            "Requirement already satisfied: platformdirs in /usr/local/lib/python3.10/dist-packages (from urlextract>=0.7->lexrank) (4.3.6)\n",
            "Requirement already satisfied: filelock in /usr/local/lib/python3.10/dist-packages (from urlextract>=0.7->lexrank) (3.16.1)\n",
            "Downloading lexrank-0.1.0-py3-none-any.whl (69 kB)\n",
            "\u001b[2K   \u001b[90m━━━━━━━━━━━━━━━━━━━━━━━━━━━━━━━━━━━━━━━━\u001b[0m \u001b[32m69.8/69.8 kB\u001b[0m \u001b[31m3.3 MB/s\u001b[0m eta \u001b[36m0:00:00\u001b[0m\n",
            "\u001b[?25hDownloading path.py-12.5.0-py3-none-any.whl (2.3 kB)\n",
            "Downloading pyrsistent-0.20.0-cp310-cp310-manylinux_2_17_x86_64.manylinux2014_x86_64.whl (117 kB)\n",
            "\u001b[2K   \u001b[90m━━━━━━━━━━━━━━━━━━━━━━━━━━━━━━━━━━━━━━━━\u001b[0m \u001b[32m117.7/117.7 kB\u001b[0m \u001b[31m5.7 MB/s\u001b[0m eta \u001b[36m0:00:00\u001b[0m\n",
            "\u001b[?25hDownloading urlextract-1.9.0-py3-none-any.whl (21 kB)\n",
            "Downloading path-17.0.0-py3-none-any.whl (24 kB)\n",
            "Downloading uritools-4.0.3-py3-none-any.whl (10 kB)\n",
            "Installing collected packages: uritools, pyrsistent, path, urlextract, path.py, lexrank\n",
            "Successfully installed lexrank-0.1.0 path-17.0.0 path.py-12.5.0 pyrsistent-0.20.0 uritools-4.0.3 urlextract-1.9.0\n"
          ]
        }
      ]
    },
    {
      "cell_type": "code",
      "source": [
        "from nltk.tokenize import word_tokenize, sent_tokenize\n",
        "from lexrank import STOPWORDS, LexRank\n",
        "\n",
        "lxr = LexRank(documents, stopwords=STOPWORDS['en'])\n",
        "sentences = sent_tokenize(documents[0])"
      ],
      "metadata": {
        "id": "vrmD9s9xlGr8"
      },
      "execution_count": 16,
      "outputs": []
    },
    {
      "cell_type": "code",
      "source": [
        "scores_count = lxr.rank_sentences(sentences,\n",
        "                                   threshold=None,\n",
        "                                   fast_power_method=False)\n",
        "\n",
        "print(scores_count)"
      ],
      "metadata": {
        "colab": {
          "base_uri": "https://localhost:8080/"
        },
        "id": "m0lcN1DClnAZ",
        "outputId": "c4c305d5-3646-457a-bd0a-091679fe1963"
      },
      "execution_count": 17,
      "outputs": [
        {
          "output_type": "stream",
          "name": "stdout",
          "text": [
            "[2.73671653 0.39503839 2.01507434 1.11591691 2.76719622 2.16698598\n",
            " 0.32813733 0.76911207 1.43218283 0.73246785 1.07852166 0.69712974\n",
            " 1.28577161 0.3912139  0.91919967 1.         0.49319904 0.32731407\n",
            " 0.80690606 1.13527953 0.30174339 1.25179128 0.90894696 0.85895394\n",
            " 1.79561662 2.02273625 0.30491861 0.5797072  1.90836631 0.63899548\n",
            " 1.09105421 0.91572227 2.34030818 1.75997476 1.22271131 0.87955975\n",
            " 0.83546738 1.08171039 0.29857772 0.97497078 0.86687698 0.55031544\n",
            " 0.50111952 0.29502459 1.34909828 0.36040409 1.11801027 0.49178779\n",
            " 1.3134742  0.52626297 0.78734988 1.25388416 0.27170785 1.\n",
            " 1.         2.28689849 0.39349089 0.80722759 1.49200557 0.795722\n",
            " 0.43529527 0.37246538 1.24918408 0.52370681 0.78300063 0.53405203\n",
            " 0.40503293 0.83124384 0.49802532 1.10131679 0.82171876 2.05315677\n",
            " 0.72326837 0.55092583 1.48001182 0.33773125 1.27754395 0.80773009\n",
            " 0.90327717 1.03003387 2.18865674 1.12701319 0.64275484 1.32336132\n",
            " 0.43698469 0.6599156  0.7529028  0.37095234 0.26380707 1.62194774\n",
            " 0.32759574 0.41494351 2.39474078 1.         0.91381496 1.32135577\n",
            " 2.49467492]\n"
          ]
        }
      ]
    },
    {
      "cell_type": "code",
      "source": [
        "scores_count.shape"
      ],
      "metadata": {
        "colab": {
          "base_uri": "https://localhost:8080/"
        },
        "id": "yxO-dBoSl1hp",
        "outputId": "e564dd88-1690-4e6a-e7eb-da297c518335"
      },
      "execution_count": 18,
      "outputs": [
        {
          "output_type": "execute_result",
          "data": {
            "text/plain": [
              "(97,)"
            ]
          },
          "metadata": {},
          "execution_count": 18
        }
      ]
    },
    {
      "cell_type": "markdown",
      "source": [
        "Print high-ranked sentences."
      ],
      "metadata": {
        "id": "DyHeJxjJl-Q6"
      }
    },
    {
      "cell_type": "code",
      "source": [
        "summary = lxr.get_summary(sentences, summary_size=2, threshold=.3)\n",
        "summary"
      ],
      "metadata": {
        "colab": {
          "base_uri": "https://localhost:8080/"
        },
        "id": "cDvgQjKul7u7",
        "outputId": "1b098bc1-2f5e-4b9c-ac0e-f00cc1fca446"
      },
      "execution_count": 21,
      "outputs": [
        {
          "output_type": "execute_result",
          "data": {
            "text/plain": [
              "[\"batman: arkham shadow stops the tailspin by authentically recapturing the essence of the arkham series in ways other recent batmanverse games disappointingly and intentionally avoided, making this the best batman game since arkham knight, even if it doesn't soar to the same heights as the series' finest moments.\",\n",
              " \"Game Title: Batman: Arkham Shadow Review - I Am Batman\\nDescription: it's hard to believe it's been nearly a decade since the last mainline batman arkham game.\"]"
            ]
          },
          "metadata": {},
          "execution_count": 21
        }
      ]
    },
    {
      "cell_type": "code",
      "source": [
        "# get summary with continuous LexRank\n",
        "summary_cont = lxr.get_summary(sentences, threshold=0.25)\n",
        "summary_cont"
      ],
      "metadata": {
        "colab": {
          "base_uri": "https://localhost:8080/"
        },
        "id": "jGTYh_sCmCXs",
        "outputId": "4860d31f-b8c9-4a0b-e6a4-8598ad9f5a40"
      },
      "execution_count": 22,
      "outputs": [
        {
          "output_type": "execute_result",
          "data": {
            "text/plain": [
              "[\"Game Title: Batman: Arkham Shadow Review - I Am Batman\\nDescription: it's hard to believe it's been nearly a decade since the last mainline batman arkham game.\"]"
            ]
          },
          "metadata": {},
          "execution_count": 22
        }
      ]
    },
    {
      "cell_type": "code",
      "source": [
        "pprint(documents[0])"
      ],
      "metadata": {
        "colab": {
          "base_uri": "https://localhost:8080/"
        },
        "id": "CmoOwWZwmLV1",
        "outputId": "6b6e94f2-fe1e-4d1b-b69e-5ea77cbb1b0e"
      },
      "execution_count": 23,
      "outputs": [
        {
          "output_type": "stream",
          "name": "stdout",
          "text": [
            "('Game Title: Batman: Arkham Shadow Review - I Am Batman\\n'\n",
            " \"Description: it's hard to believe it's been nearly a decade since the last \"\n",
            " \"mainline batman arkham game. since then, we've seen several arkham-adjacent \"\n",
            " \"projects come out, only to feel hamstrung or otherwise lacking. 2016's \"\n",
            " \"batman arkham vr was a neat tech demo, but it encompassed only the series' \"\n",
            " 'investigative elements. both traditional arkham studios, rocksteady and wb '\n",
            " 'montreal, launched batman-esque co-op games in recent years, but each '\n",
            " 'struggled for several, sometimes similar reasons. batman: arkham shadow '\n",
            " 'stops the tailspin by authentically recapturing the essence of the arkham '\n",
            " 'series in ways other recent batmanverse games disappointingly and '\n",
            " 'intentionally avoided, making this the best batman game since arkham knight, '\n",
            " \"even if it doesn't soar to the same heights as the series' finest moments. \"\n",
            " 'batman: arkham shadow is a vr-only, direct sequel to arkham origins, taking '\n",
            " 'place roughly a year later. that means this version of batman--once again '\n",
            " 'played by roger craig smith doing a solid kevin conroy impression--is still '\n",
            " \"relatively untested and ornery. he's learning how to become the unflappable \"\n",
            " 'batman we typically know him to be, so his temper can still get the best of '\n",
            " \"him, and his uncanny ability to stay 10 steps ahead of his enemies isn't \"\n",
            " \"guaranteed. played in first-person, you'll explore some enclosed sections of \"\n",
            " 'gotham before ultimately landing in blackgate prison for the bulk of the '\n",
            " 'game, giving this game a structure very much like the metroidvania-style '\n",
            " \"design of 2009's arkham asylum. the dark knight's mission is to identify and \"\n",
            " \"stop the rat king--a new enemy in the batman mythology--who's thought to be \"\n",
            " 'hiding out in the prison just days before his catastrophic strike on gotham '\n",
            " \"unfolds. this sees shadow's story unfold over the course of an in-game week \"\n",
            " 'rather than the usual overnight structure of arkham plots, and sometimes, it '\n",
            " \"shows. you'll spend about half of the game out of costume and disguised as \"\n",
            " 'an inmate, irving \"matches\" malone, allowing you entry into the '\n",
            " \"high-security prison. some of the game's pacing in these sections doesn't \"\n",
            " 'match what the arkham games would normally offer--a throwaway detail '\n",
            " 'involves spending money at the commissary to buy cosmetics with which you '\n",
            " 'decorate your prison cell, but the options are both too few in number and '\n",
            " \"unappealing. but even cool options here would've felt like the wrong layer \"\n",
            " \"to add to the arkhamverse. batman doesn't hang out, regardless of whether \"\n",
            " \"he's dressed like an inmate or a superhero, so you'll only really see his \"\n",
            " \"cell when it's time to end the day. it's not merely dialogue when you're out \"\n",
            " 'of the cowl, though. there are still some enjoyable moments when playing as '\n",
            " 'matches, like some missions that ask you to sneak around the complex or '\n",
            " \"fight other inmates without batman's usual repertoire, but they pale in \"\n",
            " 'comparison to the standout time spent in kevlar. one issue i kept returning '\n",
            " \"to, regardless of bruce wayne's get-up, is a lack of notable villains. there \"\n",
            " \"are only a few boss battles in the game, and most don't involve batman's \"\n",
            " 'major rogues. when i played arkham origins, it was hard to shake the sense '\n",
            " \"that i was squaring off with batman's b- and c-tier villains, for the most \"\n",
            " \"part. firefly doesn't hold a candle (no pun intended) to poison ivy, \"\n",
            " 'two-face, or joker. arkham shadow dials down the theatrics to an even lower '\n",
            " \"level, swapping out someone like origins' deathstroke for lock-up, a hulking \"\n",
            " 'tyger guard who struggles to feel like anything more than a souped-up common '\n",
            " 'enemy. to its credit, shadow also takes advantage of its story being early '\n",
            " \"in batman's career, letting you spend a lot of time around characters whose \"\n",
            " \"arcs fans know all too well, but you'll see them before they've fallen down \"\n",
            " \"their respective pits of darkness. that's standard prequel fare, but i enjoy \"\n",
            " \"it when it's done well in the batman world, as it is here--in several cases, \"\n",
            " \"but one especially. on its story merits, arkham shadow can't match \"\n",
            " \"rocksteady's best work. i've long believed arkham city to be one of the \"\n",
            " 'greatest batman stories regardless of medium, so the bar is extremely high, '\n",
            " \"and though arkham shadow falls short of it, that's not to say it's a bad \"\n",
            " 'story. it gets better in the final act and has some great character moments. '\n",
            " 'it authentically captures the mood of the other games, owed to its way of '\n",
            " 'adopting both identical art direction and a similar-sounding original score. '\n",
            " 'arkham shadow wants you to recall fondly your time with the earlier games in '\n",
            " 'the series, and it wants you to believe it deserves to exist in that same '\n",
            " \"place in your mind. and, despite a story that doesn't get there, most \"\n",
            " 'everything else does. arkham shadow is exclusive not just to virtual reality '\n",
            " 'as a platform, but to the meta quest 3 (and its cheaper, slightly '\n",
            " 'less-powerful sibling, the meta quest 3s). but in all the ways fans of the '\n",
            " 'series would find important, it plays like a core addition to the lauded '\n",
            " 'series. unlike arkham vr, arkham shadow ports over all three phases of the '\n",
            " \"series' gameplay loop: combat, stealth, and detective elements. the combat \"\n",
            " 'is the surest sign that shadow really works as a proper batman game. for a '\n",
            " 'batman fan skeptical of vr or even someone who has simply never tried it, it '\n",
            " 'would make for a jaw-dropping demonstration. it offers the same blend of '\n",
            " 'fluidity and complexity of past games, highlighted by its signature counter '\n",
            " 'mechanics being seamlessly transposed into vr, giving you the tools to take '\n",
            " 'out a dozen baddies without so much as a scratch on your exposed chin. '\n",
            " 'rather than press a face button to activate the counter when the on-screen '\n",
            " 'prompt appears, shadow shows the same lightning bolt-like symbol on the left '\n",
            " 'or right side of your interface, and to perform the move, you simply throw '\n",
            " 'your arm out to the same side. just like in other arkham games, this allows '\n",
            " 'you to pummel one guy, but then easily interrupt your own offense in favor '\n",
            " 'of a counter that continues your combo meter, unlocking things like '\n",
            " \"finishing moves and activating batman's shock gloves. importantly, the \"\n",
            " 'camera automatically shifts to have you face countered foes, though you can '\n",
            " 'always turn on your own accord, too. it all feels just as fluid as the '\n",
            " 'existing games in the series and earns the \"freeflow\" moniker in its own '\n",
            " 'right. the same enemies you may know from the series return here, and each '\n",
            " 'one adds a layer of combat complexity. a bigger, more brutish tyger guard '\n",
            " 'must be stunned with your cape--done in vr by making a hook motion with your '\n",
            " 'arm without holding the triggers, which would instead translate to a '\n",
            " 'fist/punch. enemies with stun batons are scaled up and over using the right '\n",
            " 'stick, then kicked in the back by raising and throwing down both of your '\n",
            " 'arms. those with knives need to be dodged by ducking before you can counter '\n",
            " 'their attacks with your own, and riot-shielders demand a combination of '\n",
            " 'cape-stunning and climbing before an overhead forearm smash. to arkham '\n",
            " \"veterans, these will sound familiar, as they're exactly what you'd do in the \"\n",
            " \"other games, and in a way i can't technically explain, the physics of it all \"\n",
            " 'feel exactly as i remember it to feel. every combat encounter is exciting '\n",
            " 'and approachable enough to allow for mastery of its systems, which naturally '\n",
            " \"sends a tidal wave of dopamine coursing through you. in a manner i've never \"\n",
            " 'experienced before,i am batman. this is just as uncannily true when moving '\n",
            " 'through the world in all the ways you can as the hero. when gliding down '\n",
            " 'from gargoyles, or bat-clawing over a ledge, you move at the same speed, and '\n",
            " \"with seemingly the same animations, you'd be used to from other arkham \"\n",
            " \"games. here, you'll physically hold out both arms to your sides to perform a \"\n",
            " 'glide, rather than hold down a single button, but how it looks and feels is '\n",
            " 'otherwise identical to before. a glide kick from 40 feet away includes the '\n",
            " 'same look and feel that series experts will be used to. even looking down at '\n",
            " 'my legs when i was simply walking, batman seems to have the same gait he '\n",
            " \"always had in the series. i didn't expect this degree of duplication and \"\n",
            " \"probably would've settled for something quite like what i knew before. but \"\n",
            " \"this isn't just quite like it. itisit. having played each of the arkham \"\n",
            " 'games several times over, arkham shadow feels like coming home after some '\n",
            " \"time spent away. it's familiar and faithful in all the right ways. while \"\n",
            " 'combat in vr includes about as many button presses as it does on a '\n",
            " 'controller, performing stealth functions is a more physical, multi-step '\n",
            " \"process. from atop a perch in an older arkham game, you'd press one button \"\n",
            " 'to pounce on an enemy below and string them up like a warning sign to others '\n",
            " 'during \"predator\" sections of the game. in vr, that one ability is performed '\n",
            " 'in several smaller motions: first, you hold down the right stick to hang '\n",
            " 'from the gargoyle, then you lunge at a nearby enemy with both arms, at which '\n",
            " \"point you'll lift him up. you tie them automatically, but to complete the \"\n",
            " 'move, you then toss them away, like the undertaker throwing mankind off the '\n",
            " \"cell in 1998. if it sounds complicated, it's really not. the on-screen \"\n",
            " 'prompts help it become second nature before long, and no move demands '\n",
            " 'unforgiving precision. like most vr games, it accepts something close enough '\n",
            " \"to what it's asking for. crouching behind enemies or popping out of grates \"\n",
            " 'beneath them to silently choke them out is similarly tactile, demanding you '\n",
            " 'lunge at them by thrusting your arms forward, then throwing your arms side '\n",
            " \"to side a few times to simulate a chokehold until they pass out. batman's \"\n",
            " 'tool belt has been cleverly rebuilt for vr, too. the decoder that would '\n",
            " 'unlock doors in past games is now a motion-based puzzle where you unholster '\n",
            " 'the device, scan the lock, then search a small radar-like map in your hand '\n",
            " 'to pinpoint the sweet spot that grants the unlock password. other classic '\n",
            " 'tools return, too, like the bat-claw that can rip grates off of '\n",
            " 'hard-to-reach air ducts, or the explosive launcher that can be used to break '\n",
            " 'down walls or even stun enemies mid-fistfight. naturally, shadow also '\n",
            " 'includes detective vision, which you activate by moving either controller to '\n",
            " \"the side of your head and clicking a trigger. it's a simple on/off switch \"\n",
            " 'that immediately recolors the world around you in the same light blue '\n",
            " 'filter, in which notable objects such as quest items and tons of optional '\n",
            " 'puzzles stick out in orange. the detective gameplay in this series has never '\n",
            " \"been very complex--it's not obra dinn; you mostly just walk around \"\n",
            " 'interacting with the highlighted items so batman can make his deductions '\n",
            " \"automatically. that's true here too, but like before, i find even this \"\n",
            " 'simplistic take on detective work functions well as a reminder that batman '\n",
            " \"isn't just one part mma fighter and one part ninja; he's also a gumshoe. \"\n",
            " 'whereas the previous attempt to bring batman arkham to vr captured only this '\n",
            " \"basic gameplay loop that usually doesn't survive such a spotlight, in \"\n",
            " \"shadow, it's one relatively minor but still important piece to delivering a \"\n",
            " \"well-rounded, authentic arkham experience. given the game's metroidvanian \"\n",
            " 'world design, you can spend a lot of time off the main path to instead smash '\n",
            " 'rat statues, destroy propaganda radios, and collect audio logs, among other '\n",
            " 'puzzle types. like riddler challenges before them, these puzzles are usually '\n",
            " 'just tricky enough to reel you away from the objective for a minute or two, '\n",
            " \"though plenty can't be completed until you unlock the right tools later in \"\n",
            " 'the story. even if this is your first arkham game, that aspect is '\n",
            " 'well-telegraphed when it needs to be, like when you clearly have no way of '\n",
            " 'reaching a vent far above you until you get the bat-clow. i always enjoyed '\n",
            " 'these optional puzzles, evidenced by the fact that i could hardly ignore any '\n",
            " \"one of them when i'd encountered it unless i wasn't equipped to beat it yet. \"\n",
            " \"to reach 100% game completion, you'll need to wipe the prison of these \"\n",
            " \"puzzles, as well as complete the game's enjoyable combat and stealth \"\n",
            " 'challenges, which unfold in arenas outside of the campaign--again '\n",
            " 'representing another staple of the series. with all of these tools at your '\n",
            " 'disposal and all of the gameplay tentpoles intact, shadow also thankfully '\n",
            " 'offers a lengthy list of movement and accessibility options so players can '\n",
            " 'find their best play style. three core movement styles make up the base '\n",
            " 'options, but you can customize each of them further so that if you might '\n",
            " 'like an immersive turning method, you can have it, even if you also prefer '\n",
            " 'that with a heavily vignetted point-of-view, which is used in some vr games '\n",
            " 'to reduce nausea. a few recent vr games left me nauseated, which confused me '\n",
            " \"since i haven't historically had to deal with that. thankfully, arkham \"\n",
            " 'shadow never did. i played the game in full on the middle-ground option '\n",
            " 'between something for beginners (or those most nausea-prone) and those who '\n",
            " 'want the most immersive vr experience. the game does seem to eat into my '\n",
            " 'battery a lot, as i beat it in five roughly two-hour sessions, stopping not '\n",
            " 'due to nausea, but because my 5% battery warning would appear. my foremost '\n",
            " 'problem with arkham shadow is a lack of polish, which i consider different '\n",
            " 'from the ubiquitous vr jank that pops up in blackgate occasionally, like '\n",
            " 'mangled forearms seen when opening some doors, or fingers that clip through '\n",
            " 'held objects. the bugs i experienced were diverse in their nature, though '\n",
            " 'thankfully not too numerous in their total instances. to name a few: '\n",
            " \"sometimes i'd get stuck behind an invisible wall, like when i'd deactivated \"\n",
            " 'an electrified barrier, but the game treated it like it still stood there. '\n",
            " \"other times, i'd load into an area and briefly witness a strange out-of-body \"\n",
            " 'experience where i watched from a great distance the entire game world laid '\n",
            " \"into place before being teleported into the right spot. i'm not sure if it \"\n",
            " 'was a bug or just a lack of enemy barks and taunts, but in some fights, the '\n",
            " 'bad guys i was scrapping with would too often repeat each other, too. '\n",
            " 'individually, none of these are game-breaking, but collectively, the broad '\n",
            " 'swath of smallish but nagging issues stood out. a vr game usually takes a '\n",
            " 'hit to its visuals as a starting point when compared to what a pc or console '\n",
            " \"game could offer, so when i'd experience bugs like these on top of a \"\n",
            " 'lower-definition take on the arkhamverse, it became a reminder that, however '\n",
            " 'authentic this new style of arkham game is to the classics, it still felt '\n",
            " 'off at times. admitting all that, i also know myself well enough as a critic '\n",
            " \"by now to know that i don't tend to care about bugs as much as many others. \"\n",
            " 'if the core experience is strong--if the highs are high enough--i tend to '\n",
            " \"forgive some missing polish. that's ultimately where i land with batman: \"\n",
            " 'arkham shadow. the highsarehigh enough. its story is a fun batman romp that '\n",
            " \"would work as a solid comic book arc, even if it can't touch rocksteady's \"\n",
            " \"mainline saga. moreover, it's by capturing the full spectrum of arkham's \"\n",
            " 'still-exciting gameplay mechanics so effectively that shadow becomes a '\n",
            " 'must-play game for batman fans, and a revealing measuring stick of how much '\n",
            " \"virtual reality has advanced in just a few years. this isn't the first \"\n",
            " \"batman arkham game made for vr, but it's undoubtedly the first to feel like \"\n",
            " 'it belongs with the rest of the series. ')\n"
          ]
        }
      ]
    },
    {
      "cell_type": "markdown",
      "source": [
        "#TextRank"
      ],
      "metadata": {
        "id": "uxPYNFZumkL3"
      }
    },
    {
      "cell_type": "code",
      "source": [
        "!pip install summa"
      ],
      "metadata": {
        "colab": {
          "base_uri": "https://localhost:8080/"
        },
        "id": "OknAnD2pmeVe",
        "outputId": "b769c5e4-1fae-4361-cecd-9dc13d9a3fd5"
      },
      "execution_count": 24,
      "outputs": [
        {
          "output_type": "stream",
          "name": "stdout",
          "text": [
            "Collecting summa\n",
            "  Downloading summa-1.2.0.tar.gz (54 kB)\n",
            "\u001b[?25l     \u001b[90m━━━━━━━━━━━━━━━━━━━━━━━━━━━━━━━━━━━━━━━━\u001b[0m \u001b[32m0.0/54.9 kB\u001b[0m \u001b[31m?\u001b[0m eta \u001b[36m-:--:--\u001b[0m\r\u001b[2K     \u001b[90m━━━━━━━━━━━━━━━━━━━━━━━━━━━━━━━━━━━━━━━━\u001b[0m \u001b[32m54.9/54.9 kB\u001b[0m \u001b[31m2.7 MB/s\u001b[0m eta \u001b[36m0:00:00\u001b[0m\n",
            "\u001b[?25h  Preparing metadata (setup.py) ... \u001b[?25l\u001b[?25hdone\n",
            "Requirement already satisfied: scipy>=0.19 in /usr/local/lib/python3.10/dist-packages (from summa) (1.13.1)\n",
            "Requirement already satisfied: numpy<2.3,>=1.22.4 in /usr/local/lib/python3.10/dist-packages (from scipy>=0.19->summa) (1.26.4)\n",
            "Building wheels for collected packages: summa\n",
            "  Building wheel for summa (setup.py) ... \u001b[?25l\u001b[?25hdone\n",
            "  Created wheel for summa: filename=summa-1.2.0-py3-none-any.whl size=54387 sha256=ef3c0ddaa50f595f445975b5e75cd279e692e6075ac4df2fed06b568c416637d\n",
            "  Stored in directory: /root/.cache/pip/wheels/4a/ca/c5/4958614cfba88ed6ceb7cb5a849f9f89f9ac49971616bc919f\n",
            "Successfully built summa\n",
            "Installing collected packages: summa\n",
            "Successfully installed summa-1.2.0\n"
          ]
        }
      ]
    },
    {
      "cell_type": "code",
      "source": [
        "sentences = documents[0]\n",
        "sentences"
      ],
      "metadata": {
        "colab": {
          "base_uri": "https://localhost:8080/",
          "height": 137
        },
        "id": "sft81flqmyLd",
        "outputId": "18b9d2d9-d2fb-4baa-9cd9-777a8b142890"
      },
      "execution_count": 26,
      "outputs": [
        {
          "output_type": "execute_result",
          "data": {
            "text/plain": [
              "'Game Title: Batman: Arkham Shadow Review - I Am Batman\\nDescription: it\\'s hard to believe it\\'s been nearly a decade since the last mainline batman arkham game. since then, we\\'ve seen several arkham-adjacent projects come out, only to feel hamstrung or otherwise lacking. 2016\\'s batman arkham vr was a neat tech demo, but it encompassed only the series\\' investigative elements. both traditional arkham studios, rocksteady and wb montreal, launched batman-esque co-op games in recent years, but each struggled for several, sometimes similar reasons. batman: arkham shadow stops the tailspin by authentically recapturing the essence of the arkham series in ways other recent batmanverse games disappointingly and intentionally avoided, making this the best batman game since arkham knight, even if it doesn\\'t soar to the same heights as the series\\' finest moments. batman: arkham shadow is a vr-only, direct sequel to arkham origins, taking place roughly a year later. that means this version of batman--once again played by roger craig smith doing a solid kevin conroy impression--is still relatively untested and ornery. he\\'s learning how to become the unflappable batman we typically know him to be, so his temper can still get the best of him, and his uncanny ability to stay 10 steps ahead of his enemies isn\\'t guaranteed. played in first-person, you\\'ll explore some enclosed sections of gotham before ultimately landing in blackgate prison for the bulk of the game, giving this game a structure very much like the metroidvania-style design of 2009\\'s arkham asylum. the dark knight\\'s mission is to identify and stop the rat king--a new enemy in the batman mythology--who\\'s thought to be hiding out in the prison just days before his catastrophic strike on gotham unfolds. this sees shadow\\'s story unfold over the course of an in-game week rather than the usual overnight structure of arkham plots, and sometimes, it shows. you\\'ll spend about half of the game out of costume and disguised as an inmate, irving \"matches\" malone, allowing you entry into the high-security prison. some of the game\\'s pacing in these sections doesn\\'t match what the arkham games would normally offer--a throwaway detail involves spending money at the commissary to buy cosmetics with which you decorate your prison cell, but the options are both too few in number and unappealing. but even cool options here would\\'ve felt like the wrong layer to add to the arkhamverse. batman doesn\\'t hang out, regardless of whether he\\'s dressed like an inmate or a superhero, so you\\'ll only really see his cell when it\\'s time to end the day. it\\'s not merely dialogue when you\\'re out of the cowl, though. there are still some enjoyable moments when playing as matches, like some missions that ask you to sneak around the complex or fight other inmates without batman\\'s usual repertoire, but they pale in comparison to the standout time spent in kevlar. one issue i kept returning to, regardless of bruce wayne\\'s get-up, is a lack of notable villains. there are only a few boss battles in the game, and most don\\'t involve batman\\'s major rogues. when i played arkham origins, it was hard to shake the sense that i was squaring off with batman\\'s b- and c-tier villains, for the most part. firefly doesn\\'t hold a candle (no pun intended) to poison ivy, two-face, or joker. arkham shadow dials down the theatrics to an even lower level, swapping out someone like origins\\' deathstroke for lock-up, a hulking tyger guard who struggles to feel like anything more than a souped-up common enemy. to its credit, shadow also takes advantage of its story being early in batman\\'s career, letting you spend a lot of time around characters whose arcs fans know all too well, but you\\'ll see them before they\\'ve fallen down their respective pits of darkness. that\\'s standard prequel fare, but i enjoy it when it\\'s done well in the batman world, as it is here--in several cases, but one especially. on its story merits, arkham shadow can\\'t match rocksteady\\'s best work. i\\'ve long believed arkham city to be one of the greatest batman stories regardless of medium, so the bar is extremely high, and though arkham shadow falls short of it, that\\'s not to say it\\'s a bad story. it gets better in the final act and has some great character moments. it authentically captures the mood of the other games, owed to its way of adopting both identical art direction and a similar-sounding original score. arkham shadow wants you to recall fondly your time with the earlier games in the series, and it wants you to believe it deserves to exist in that same place in your mind. and, despite a story that doesn\\'t get there, most everything else does. arkham shadow is exclusive not just to virtual reality as a platform, but to the meta quest 3 (and its cheaper, slightly less-powerful sibling, the meta quest 3s). but in all the ways fans of the series would find important, it plays like a core addition to the lauded series. unlike arkham vr, arkham shadow ports over all three phases of the series\\' gameplay loop: combat, stealth, and detective elements. the combat is the surest sign that shadow really works as a proper batman game. for a batman fan skeptical of vr or even someone who has simply never tried it, it would make for a jaw-dropping demonstration. it offers the same blend of fluidity and complexity of past games, highlighted by its signature counter mechanics being seamlessly transposed into vr, giving you the tools to take out a dozen baddies without so much as a scratch on your exposed chin. rather than press a face button to activate the counter when the on-screen prompt appears, shadow shows the same lightning bolt-like symbol on the left or right side of your interface, and to perform the move, you simply throw your arm out to the same side. just like in other arkham games, this allows you to pummel one guy, but then easily interrupt your own offense in favor of a counter that continues your combo meter, unlocking things like finishing moves and activating batman\\'s shock gloves. importantly, the camera automatically shifts to have you face countered foes, though you can always turn on your own accord, too. it all feels just as fluid as the existing games in the series and earns the \"freeflow\" moniker in its own right. the same enemies you may know from the series return here, and each one adds a layer of combat complexity. a bigger, more brutish tyger guard must be stunned with your cape--done in vr by making a hook motion with your arm without holding the triggers, which would instead translate to a fist/punch. enemies with stun batons are scaled up and over using the right stick, then kicked in the back by raising and throwing down both of your arms. those with knives need to be dodged by ducking before you can counter their attacks with your own, and riot-shielders demand a combination of cape-stunning and climbing before an overhead forearm smash. to arkham veterans, these will sound familiar, as they\\'re exactly what you\\'d do in the other games, and in a way i can\\'t technically explain, the physics of it all feel exactly as i remember it to feel. every combat encounter is exciting and approachable enough to allow for mastery of its systems, which naturally sends a tidal wave of dopamine coursing through you. in a manner i\\'ve never experienced before,i am batman. this is just as uncannily true when moving through the world in all the ways you can as the hero. when gliding down from gargoyles, or bat-clawing over a ledge, you move at the same speed, and with seemingly the same animations, you\\'d be used to from other arkham games. here, you\\'ll physically hold out both arms to your sides to perform a glide, rather than hold down a single button, but how it looks and feels is otherwise identical to before. a glide kick from 40 feet away includes the same look and feel that series experts will be used to. even looking down at my legs when i was simply walking, batman seems to have the same gait he always had in the series. i didn\\'t expect this degree of duplication and probably would\\'ve settled for something quite like what i knew before. but this isn\\'t just quite like it. itisit. having played each of the arkham games several times over, arkham shadow feels like coming home after some time spent away. it\\'s familiar and faithful in all the right ways. while combat in vr includes about as many button presses as it does on a controller, performing stealth functions is a more physical, multi-step process. from atop a perch in an older arkham game, you\\'d press one button to pounce on an enemy below and string them up like a warning sign to others during \"predator\" sections of the game. in vr, that one ability is performed in several smaller motions: first, you hold down the right stick to hang from the gargoyle, then you lunge at a nearby enemy with both arms, at which point you\\'ll lift him up. you tie them automatically, but to complete the move, you then toss them away, like the undertaker throwing mankind off the cell in 1998. if it sounds complicated, it\\'s really not. the on-screen prompts help it become second nature before long, and no move demands unforgiving precision. like most vr games, it accepts something close enough to what it\\'s asking for. crouching behind enemies or popping out of grates beneath them to silently choke them out is similarly tactile, demanding you lunge at them by thrusting your arms forward, then throwing your arms side to side a few times to simulate a chokehold until they pass out. batman\\'s tool belt has been cleverly rebuilt for vr, too. the decoder that would unlock doors in past games is now a motion-based puzzle where you unholster the device, scan the lock, then search a small radar-like map in your hand to pinpoint the sweet spot that grants the unlock password. other classic tools return, too, like the bat-claw that can rip grates off of hard-to-reach air ducts, or the explosive launcher that can be used to break down walls or even stun enemies mid-fistfight. naturally, shadow also includes detective vision, which you activate by moving either controller to the side of your head and clicking a trigger. it\\'s a simple on/off switch that immediately recolors the world around you in the same light blue filter, in which notable objects such as quest items and tons of optional puzzles stick out in orange. the detective gameplay in this series has never been very complex--it\\'s not obra dinn; you mostly just walk around interacting with the highlighted items so batman can make his deductions automatically. that\\'s true here too, but like before, i find even this simplistic take on detective work functions well as a reminder that batman isn\\'t just one part mma fighter and one part ninja; he\\'s also a gumshoe. whereas the previous attempt to bring batman arkham to vr captured only this basic gameplay loop that usually doesn\\'t survive such a spotlight, in shadow, it\\'s one relatively minor but still important piece to delivering a well-rounded, authentic arkham experience. given the game\\'s metroidvanian world design, you can spend a lot of time off the main path to instead smash rat statues, destroy propaganda radios, and collect audio logs, among other puzzle types. like riddler challenges before them, these puzzles are usually just tricky enough to reel you away from the objective for a minute or two, though plenty can\\'t be completed until you unlock the right tools later in the story. even if this is your first arkham game, that aspect is well-telegraphed when it needs to be, like when you clearly have no way of reaching a vent far above you until you get the bat-clow. i always enjoyed these optional puzzles, evidenced by the fact that i could hardly ignore any one of them when i\\'d encountered it unless i wasn\\'t equipped to beat it yet. to reach 100% game completion, you\\'ll need to wipe the prison of these puzzles, as well as complete the game\\'s enjoyable combat and stealth challenges, which unfold in arenas outside of the campaign--again representing another staple of the series. with all of these tools at your disposal and all of the gameplay tentpoles intact, shadow also thankfully offers a lengthy list of movement and accessibility options so players can find their best play style. three core movement styles make up the base options, but you can customize each of them further so that if you might like an immersive turning method, you can have it, even if you also prefer that with a heavily vignetted point-of-view, which is used in some vr games to reduce nausea. a few recent vr games left me nauseated, which confused me since i haven\\'t historically had to deal with that. thankfully, arkham shadow never did. i played the game in full on the middle-ground option between something for beginners (or those most nausea-prone) and those who want the most immersive vr experience. the game does seem to eat into my battery a lot, as i beat it in five roughly two-hour sessions, stopping not due to nausea, but because my 5% battery warning would appear. my foremost problem with arkham shadow is a lack of polish, which i consider different from the ubiquitous vr jank that pops up in blackgate occasionally, like mangled forearms seen when opening some doors, or fingers that clip through held objects. the bugs i experienced were diverse in their nature, though thankfully not too numerous in their total instances. to name a few: sometimes i\\'d get stuck behind an invisible wall, like when i\\'d deactivated an electrified barrier, but the game treated it like it still stood there. other times, i\\'d load into an area and briefly witness a strange out-of-body experience where i watched from a great distance the entire game world laid into place before being teleported into the right spot. i\\'m not sure if it was a bug or just a lack of enemy barks and taunts, but in some fights, the bad guys i was scrapping with would too often repeat each other, too. individually, none of these are game-breaking, but collectively, the broad swath of smallish but nagging issues stood out. a vr game usually takes a hit to its visuals as a starting point when compared to what a pc or console game could offer, so when i\\'d experience bugs like these on top of a lower-definition take on the arkhamverse, it became a reminder that, however authentic this new style of arkham game is to the classics, it still felt off at times. admitting all that, i also know myself well enough as a critic by now to know that i don\\'t tend to care about bugs as much as many others. if the core experience is strong--if the highs are high enough--i tend to forgive some missing polish. that\\'s ultimately where i land with batman: arkham shadow. the highsarehigh enough. its story is a fun batman romp that would work as a solid comic book arc, even if it can\\'t touch rocksteady\\'s mainline saga. moreover, it\\'s by capturing the full spectrum of arkham\\'s still-exciting gameplay mechanics so effectively that shadow becomes a must-play game for batman fans, and a revealing measuring stick of how much virtual reality has advanced in just a few years. this isn\\'t the first batman arkham game made for vr, but it\\'s undoubtedly the first to feel like it belongs with the rest of the series. '"
            ],
            "application/vnd.google.colaboratory.intrinsic+json": {
              "type": "string"
            }
          },
          "metadata": {},
          "execution_count": 26
        }
      ]
    },
    {
      "cell_type": "code",
      "source": [
        "from summa.summarizer import summarize\n",
        "\n",
        "sum = summarize(sentences, ratio=0.25)\n",
        "sum"
      ],
      "metadata": {
        "colab": {
          "base_uri": "https://localhost:8080/",
          "height": 137
        },
        "id": "D2L0WqB2m30k",
        "outputId": "464ebd0d-0ef6-43dd-ae48-c7fd4ee4201b"
      },
      "execution_count": 28,
      "outputs": [
        {
          "output_type": "execute_result",
          "data": {
            "text/plain": [
              "'Game Title: Batman: Arkham Shadow Review - I Am Batman\\nDescription: it\\'s hard to believe it\\'s been nearly a decade since the last mainline batman arkham game.\\nboth traditional arkham studios, rocksteady and wb montreal, launched batman-esque co-op games in recent years, but each struggled for several, sometimes similar reasons.\\nbatman: arkham shadow stops the tailspin by authentically recapturing the essence of the arkham series in ways other recent batmanverse games disappointingly and intentionally avoided, making this the best batman game since arkham knight, even if it doesn\\'t soar to the same heights as the series\\' finest moments.\\nbatman: arkham shadow is a vr-only, direct sequel to arkham origins, taking place roughly a year later.\\nplayed in first-person, you\\'ll explore some enclosed sections of gotham before ultimately landing in blackgate prison for the bulk of the game, giving this game a structure very much like the metroidvania-style design of 2009\\'s arkham asylum.\\nthis sees shadow\\'s story unfold over the course of an in-game week rather than the usual overnight structure of arkham plots, and sometimes, it shows.\\narkham shadow dials down the theatrics to an even lower level, swapping out someone like origins\\' deathstroke for lock-up, a hulking tyger guard who struggles to feel like anything more than a souped-up common enemy.\\ni\\'ve long believed arkham city to be one of the greatest batman stories regardless of medium, so the bar is extremely high, and though arkham shadow falls short of it, that\\'s not to say it\\'s a bad story.\\narkham shadow wants you to recall fondly your time with the earlier games in the series, and it wants you to believe it deserves to exist in that same place in your mind.\\nunlike arkham vr, arkham shadow ports over all three phases of the series\\' gameplay loop: combat, stealth, and detective elements.\\nthe combat is the surest sign that shadow really works as a proper batman game.\\njust like in other arkham games, this allows you to pummel one guy, but then easily interrupt your own offense in favor of a counter that continues your combo meter, unlocking things like finishing moves and activating batman\\'s shock gloves.\\nto arkham veterans, these will sound familiar, as they\\'re exactly what you\\'d do in the other games, and in a way i can\\'t technically explain, the physics of it all feel exactly as i remember it to feel.\\nhaving played each of the arkham games several times over, arkham shadow feels like coming home after some time spent away.\\nfrom atop a perch in an older arkham game, you\\'d press one button to pounce on an enemy below and string them up like a warning sign to others during \"predator\" sections of the game.\\nwhereas the previous attempt to bring batman arkham to vr captured only this basic gameplay loop that usually doesn\\'t survive such a spotlight, in shadow, it\\'s one relatively minor but still important piece to delivering a well-rounded, authentic arkham experience.\\neven if this is your first arkham game, that aspect is well-telegraphed when it needs to be, like when you clearly have no way of reaching a vent far above you until you get the bat-clow.\\nthree core movement styles make up the base options, but you can customize each of them further so that if you might like an immersive turning method, you can have it, even if you also prefer that with a heavily vignetted point-of-view, which is used in some vr games to reduce nausea.\\nmy foremost problem with arkham shadow is a lack of polish, which i consider different from the ubiquitous vr jank that pops up in blackgate occasionally, like mangled forearms seen when opening some doors, or fingers that clip through held objects.\\na vr game usually takes a hit to its visuals as a starting point when compared to what a pc or console game could offer, so when i\\'d experience bugs like these on top of a lower-definition take on the arkhamverse, it became a reminder that, however authentic this new style of arkham game is to the classics, it still felt off at times.\\nthat\\'s ultimately where i land with batman: arkham shadow.\\nmoreover, it\\'s by capturing the full spectrum of arkham\\'s still-exciting gameplay mechanics so effectively that shadow becomes a must-play game for batman fans, and a revealing measuring stick of how much virtual reality has advanced in just a few years.\\nthis isn\\'t the first batman arkham game made for vr, but it\\'s undoubtedly the first to feel like it belongs with the rest of the series.'"
            ],
            "application/vnd.google.colaboratory.intrinsic+json": {
              "type": "string"
            }
          },
          "metadata": {},
          "execution_count": 28
        }
      ]
    },
    {
      "cell_type": "code",
      "source": [
        "len(sum)"
      ],
      "metadata": {
        "colab": {
          "base_uri": "https://localhost:8080/"
        },
        "id": "k5ZkypVwnEr4",
        "outputId": "23aa11ee-86d0-468b-e7a1-ef2347c61c4d"
      },
      "execution_count": 29,
      "outputs": [
        {
          "output_type": "execute_result",
          "data": {
            "text/plain": [
              "4474"
            ]
          },
          "metadata": {},
          "execution_count": 29
        }
      ]
    },
    {
      "cell_type": "code",
      "source": [
        "documents[0]"
      ],
      "metadata": {
        "colab": {
          "base_uri": "https://localhost:8080/",
          "height": 137
        },
        "id": "uO_dNkRBnMKZ",
        "outputId": "3c5495ba-aed2-466e-ec8f-925350f57999"
      },
      "execution_count": 30,
      "outputs": [
        {
          "output_type": "execute_result",
          "data": {
            "text/plain": [
              "'Game Title: Batman: Arkham Shadow Review - I Am Batman\\nDescription: it\\'s hard to believe it\\'s been nearly a decade since the last mainline batman arkham game. since then, we\\'ve seen several arkham-adjacent projects come out, only to feel hamstrung or otherwise lacking. 2016\\'s batman arkham vr was a neat tech demo, but it encompassed only the series\\' investigative elements. both traditional arkham studios, rocksteady and wb montreal, launched batman-esque co-op games in recent years, but each struggled for several, sometimes similar reasons. batman: arkham shadow stops the tailspin by authentically recapturing the essence of the arkham series in ways other recent batmanverse games disappointingly and intentionally avoided, making this the best batman game since arkham knight, even if it doesn\\'t soar to the same heights as the series\\' finest moments. batman: arkham shadow is a vr-only, direct sequel to arkham origins, taking place roughly a year later. that means this version of batman--once again played by roger craig smith doing a solid kevin conroy impression--is still relatively untested and ornery. he\\'s learning how to become the unflappable batman we typically know him to be, so his temper can still get the best of him, and his uncanny ability to stay 10 steps ahead of his enemies isn\\'t guaranteed. played in first-person, you\\'ll explore some enclosed sections of gotham before ultimately landing in blackgate prison for the bulk of the game, giving this game a structure very much like the metroidvania-style design of 2009\\'s arkham asylum. the dark knight\\'s mission is to identify and stop the rat king--a new enemy in the batman mythology--who\\'s thought to be hiding out in the prison just days before his catastrophic strike on gotham unfolds. this sees shadow\\'s story unfold over the course of an in-game week rather than the usual overnight structure of arkham plots, and sometimes, it shows. you\\'ll spend about half of the game out of costume and disguised as an inmate, irving \"matches\" malone, allowing you entry into the high-security prison. some of the game\\'s pacing in these sections doesn\\'t match what the arkham games would normally offer--a throwaway detail involves spending money at the commissary to buy cosmetics with which you decorate your prison cell, but the options are both too few in number and unappealing. but even cool options here would\\'ve felt like the wrong layer to add to the arkhamverse. batman doesn\\'t hang out, regardless of whether he\\'s dressed like an inmate or a superhero, so you\\'ll only really see his cell when it\\'s time to end the day. it\\'s not merely dialogue when you\\'re out of the cowl, though. there are still some enjoyable moments when playing as matches, like some missions that ask you to sneak around the complex or fight other inmates without batman\\'s usual repertoire, but they pale in comparison to the standout time spent in kevlar. one issue i kept returning to, regardless of bruce wayne\\'s get-up, is a lack of notable villains. there are only a few boss battles in the game, and most don\\'t involve batman\\'s major rogues. when i played arkham origins, it was hard to shake the sense that i was squaring off with batman\\'s b- and c-tier villains, for the most part. firefly doesn\\'t hold a candle (no pun intended) to poison ivy, two-face, or joker. arkham shadow dials down the theatrics to an even lower level, swapping out someone like origins\\' deathstroke for lock-up, a hulking tyger guard who struggles to feel like anything more than a souped-up common enemy. to its credit, shadow also takes advantage of its story being early in batman\\'s career, letting you spend a lot of time around characters whose arcs fans know all too well, but you\\'ll see them before they\\'ve fallen down their respective pits of darkness. that\\'s standard prequel fare, but i enjoy it when it\\'s done well in the batman world, as it is here--in several cases, but one especially. on its story merits, arkham shadow can\\'t match rocksteady\\'s best work. i\\'ve long believed arkham city to be one of the greatest batman stories regardless of medium, so the bar is extremely high, and though arkham shadow falls short of it, that\\'s not to say it\\'s a bad story. it gets better in the final act and has some great character moments. it authentically captures the mood of the other games, owed to its way of adopting both identical art direction and a similar-sounding original score. arkham shadow wants you to recall fondly your time with the earlier games in the series, and it wants you to believe it deserves to exist in that same place in your mind. and, despite a story that doesn\\'t get there, most everything else does. arkham shadow is exclusive not just to virtual reality as a platform, but to the meta quest 3 (and its cheaper, slightly less-powerful sibling, the meta quest 3s). but in all the ways fans of the series would find important, it plays like a core addition to the lauded series. unlike arkham vr, arkham shadow ports over all three phases of the series\\' gameplay loop: combat, stealth, and detective elements. the combat is the surest sign that shadow really works as a proper batman game. for a batman fan skeptical of vr or even someone who has simply never tried it, it would make for a jaw-dropping demonstration. it offers the same blend of fluidity and complexity of past games, highlighted by its signature counter mechanics being seamlessly transposed into vr, giving you the tools to take out a dozen baddies without so much as a scratch on your exposed chin. rather than press a face button to activate the counter when the on-screen prompt appears, shadow shows the same lightning bolt-like symbol on the left or right side of your interface, and to perform the move, you simply throw your arm out to the same side. just like in other arkham games, this allows you to pummel one guy, but then easily interrupt your own offense in favor of a counter that continues your combo meter, unlocking things like finishing moves and activating batman\\'s shock gloves. importantly, the camera automatically shifts to have you face countered foes, though you can always turn on your own accord, too. it all feels just as fluid as the existing games in the series and earns the \"freeflow\" moniker in its own right. the same enemies you may know from the series return here, and each one adds a layer of combat complexity. a bigger, more brutish tyger guard must be stunned with your cape--done in vr by making a hook motion with your arm without holding the triggers, which would instead translate to a fist/punch. enemies with stun batons are scaled up and over using the right stick, then kicked in the back by raising and throwing down both of your arms. those with knives need to be dodged by ducking before you can counter their attacks with your own, and riot-shielders demand a combination of cape-stunning and climbing before an overhead forearm smash. to arkham veterans, these will sound familiar, as they\\'re exactly what you\\'d do in the other games, and in a way i can\\'t technically explain, the physics of it all feel exactly as i remember it to feel. every combat encounter is exciting and approachable enough to allow for mastery of its systems, which naturally sends a tidal wave of dopamine coursing through you. in a manner i\\'ve never experienced before,i am batman. this is just as uncannily true when moving through the world in all the ways you can as the hero. when gliding down from gargoyles, or bat-clawing over a ledge, you move at the same speed, and with seemingly the same animations, you\\'d be used to from other arkham games. here, you\\'ll physically hold out both arms to your sides to perform a glide, rather than hold down a single button, but how it looks and feels is otherwise identical to before. a glide kick from 40 feet away includes the same look and feel that series experts will be used to. even looking down at my legs when i was simply walking, batman seems to have the same gait he always had in the series. i didn\\'t expect this degree of duplication and probably would\\'ve settled for something quite like what i knew before. but this isn\\'t just quite like it. itisit. having played each of the arkham games several times over, arkham shadow feels like coming home after some time spent away. it\\'s familiar and faithful in all the right ways. while combat in vr includes about as many button presses as it does on a controller, performing stealth functions is a more physical, multi-step process. from atop a perch in an older arkham game, you\\'d press one button to pounce on an enemy below and string them up like a warning sign to others during \"predator\" sections of the game. in vr, that one ability is performed in several smaller motions: first, you hold down the right stick to hang from the gargoyle, then you lunge at a nearby enemy with both arms, at which point you\\'ll lift him up. you tie them automatically, but to complete the move, you then toss them away, like the undertaker throwing mankind off the cell in 1998. if it sounds complicated, it\\'s really not. the on-screen prompts help it become second nature before long, and no move demands unforgiving precision. like most vr games, it accepts something close enough to what it\\'s asking for. crouching behind enemies or popping out of grates beneath them to silently choke them out is similarly tactile, demanding you lunge at them by thrusting your arms forward, then throwing your arms side to side a few times to simulate a chokehold until they pass out. batman\\'s tool belt has been cleverly rebuilt for vr, too. the decoder that would unlock doors in past games is now a motion-based puzzle where you unholster the device, scan the lock, then search a small radar-like map in your hand to pinpoint the sweet spot that grants the unlock password. other classic tools return, too, like the bat-claw that can rip grates off of hard-to-reach air ducts, or the explosive launcher that can be used to break down walls or even stun enemies mid-fistfight. naturally, shadow also includes detective vision, which you activate by moving either controller to the side of your head and clicking a trigger. it\\'s a simple on/off switch that immediately recolors the world around you in the same light blue filter, in which notable objects such as quest items and tons of optional puzzles stick out in orange. the detective gameplay in this series has never been very complex--it\\'s not obra dinn; you mostly just walk around interacting with the highlighted items so batman can make his deductions automatically. that\\'s true here too, but like before, i find even this simplistic take on detective work functions well as a reminder that batman isn\\'t just one part mma fighter and one part ninja; he\\'s also a gumshoe. whereas the previous attempt to bring batman arkham to vr captured only this basic gameplay loop that usually doesn\\'t survive such a spotlight, in shadow, it\\'s one relatively minor but still important piece to delivering a well-rounded, authentic arkham experience. given the game\\'s metroidvanian world design, you can spend a lot of time off the main path to instead smash rat statues, destroy propaganda radios, and collect audio logs, among other puzzle types. like riddler challenges before them, these puzzles are usually just tricky enough to reel you away from the objective for a minute or two, though plenty can\\'t be completed until you unlock the right tools later in the story. even if this is your first arkham game, that aspect is well-telegraphed when it needs to be, like when you clearly have no way of reaching a vent far above you until you get the bat-clow. i always enjoyed these optional puzzles, evidenced by the fact that i could hardly ignore any one of them when i\\'d encountered it unless i wasn\\'t equipped to beat it yet. to reach 100% game completion, you\\'ll need to wipe the prison of these puzzles, as well as complete the game\\'s enjoyable combat and stealth challenges, which unfold in arenas outside of the campaign--again representing another staple of the series. with all of these tools at your disposal and all of the gameplay tentpoles intact, shadow also thankfully offers a lengthy list of movement and accessibility options so players can find their best play style. three core movement styles make up the base options, but you can customize each of them further so that if you might like an immersive turning method, you can have it, even if you also prefer that with a heavily vignetted point-of-view, which is used in some vr games to reduce nausea. a few recent vr games left me nauseated, which confused me since i haven\\'t historically had to deal with that. thankfully, arkham shadow never did. i played the game in full on the middle-ground option between something for beginners (or those most nausea-prone) and those who want the most immersive vr experience. the game does seem to eat into my battery a lot, as i beat it in five roughly two-hour sessions, stopping not due to nausea, but because my 5% battery warning would appear. my foremost problem with arkham shadow is a lack of polish, which i consider different from the ubiquitous vr jank that pops up in blackgate occasionally, like mangled forearms seen when opening some doors, or fingers that clip through held objects. the bugs i experienced were diverse in their nature, though thankfully not too numerous in their total instances. to name a few: sometimes i\\'d get stuck behind an invisible wall, like when i\\'d deactivated an electrified barrier, but the game treated it like it still stood there. other times, i\\'d load into an area and briefly witness a strange out-of-body experience where i watched from a great distance the entire game world laid into place before being teleported into the right spot. i\\'m not sure if it was a bug or just a lack of enemy barks and taunts, but in some fights, the bad guys i was scrapping with would too often repeat each other, too. individually, none of these are game-breaking, but collectively, the broad swath of smallish but nagging issues stood out. a vr game usually takes a hit to its visuals as a starting point when compared to what a pc or console game could offer, so when i\\'d experience bugs like these on top of a lower-definition take on the arkhamverse, it became a reminder that, however authentic this new style of arkham game is to the classics, it still felt off at times. admitting all that, i also know myself well enough as a critic by now to know that i don\\'t tend to care about bugs as much as many others. if the core experience is strong--if the highs are high enough--i tend to forgive some missing polish. that\\'s ultimately where i land with batman: arkham shadow. the highsarehigh enough. its story is a fun batman romp that would work as a solid comic book arc, even if it can\\'t touch rocksteady\\'s mainline saga. moreover, it\\'s by capturing the full spectrum of arkham\\'s still-exciting gameplay mechanics so effectively that shadow becomes a must-play game for batman fans, and a revealing measuring stick of how much virtual reality has advanced in just a few years. this isn\\'t the first batman arkham game made for vr, but it\\'s undoubtedly the first to feel like it belongs with the rest of the series. '"
            ],
            "application/vnd.google.colaboratory.intrinsic+json": {
              "type": "string"
            }
          },
          "metadata": {},
          "execution_count": 30
        }
      ]
    },
    {
      "cell_type": "code",
      "source": [
        "len(documents[0])"
      ],
      "metadata": {
        "colab": {
          "base_uri": "https://localhost:8080/"
        },
        "id": "mv6AWq-BnOv5",
        "outputId": "e8a38e42-c23b-48c0-add2-83f352a06c63"
      },
      "execution_count": 31,
      "outputs": [
        {
          "output_type": "execute_result",
          "data": {
            "text/plain": [
              "15284"
            ]
          },
          "metadata": {},
          "execution_count": 31
        }
      ]
    },
    {
      "cell_type": "code",
      "source": [],
      "metadata": {
        "id": "AksR-ttAnYW5"
      },
      "execution_count": null,
      "outputs": []
    }
  ]
}